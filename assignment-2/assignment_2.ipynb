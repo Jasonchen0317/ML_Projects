{
 "cells": [
  {
   "cell_type": "markdown",
   "metadata": {},
   "source": [
    "1. What is the training accuracy? What is the testing accuracy? Do you think your model overfits? How many iteration did it take to converge?\n",
    "\n",
    "        For the training without regularization, training accuracy reached 100%. I believe that my model did not overfit since the accuracy on the testing data is 99.945%. It took 47 iterations for the model to converge.\n",
    "\n",
    "2. Take a look at the trained model parameters. Which features have the largest weights in absolute value? These are potentially most informative features for the trained model. Do they make sense? Why?\n",
    "\n",
    "        The top 10 features that have the largest weight are: \n",
    "                1. dst_host_serror_rate: % of connections to current host that have an S0 error.\n",
    "                2. dst_host_diff_srv_rate: % of different services on current host.\n",
    "                3. dst_host_rerror_rate: % of connections to current host that have an RST error.\n",
    "                4. diff_srv_rate: % of connections to diﬀerent services.\n",
    "                5. dst_host_same_src_port_rate: % of connections to current host having same src port.\n",
    "                6. rerror_rate: % of connections that have ‘REJ’ errors.\n",
    "                7. dst_host_same_srv_rate: % of connections having same dst port and using same service.\n",
    "                8. srv_count: number of connections to same service as current connection in past two seconds.\n",
    "                9. protocol_type_udp: connection protocol (tcp, udp, icmp).\n",
    "                10. count: number of connections to same host as current connection in past two seconds.\n",
    "\n",
    "        Probing attacks, for example, IPsweep and Portsweep, as their names suggest, sweep through IP addresses and port numbers for a victim network and host respectively looking for open ports, that could potentially be used later in an attack. The features that have large weights are related to these approach.\n",
    "\n",
    "3. Train model with L1 and L2 regularization. Compare the accuracies for L1 and L2 and plot the feature weights. \n",
    "\n",
    "        Model with L1 regularization: Train Accuracy: 0.9999087646736816\n",
    "                                      Test Accuracy: 0.9998783454987834\n",
    "                                      Iterations: 13\n",
    "        Model with L2 regularization(default strength): Train Accuracy: 0.9999391764491211\n",
    "                                      Test Accuracy: 0.9996350364963503\n",
    "                                      Iterations: 11\n",
    "                                \n",
    "4. Try different strengths for L2 regularization. (You can use values .001, .01,.1,1,10 etc.)  Show how the train and test accuracy varies with different regularization strengths. Explain your results.\n",
    "\n",
    "        The parameter for regularization strength is C(smaller values specify stronger regularization.)\n",
    "        C = 10: Train Accuracy: 1.0\n",
    "                Test Accuracy: 0.9995742092457421\n",
    "                Iterations: 11\n",
    "        C = 1: Train Accuracy: 0.9999391764491211\n",
    "                Test Accuracy: 0.9996350364963503\n",
    "                Iterations: 11\n",
    "        C = 0.1: Train Accuracy: 0.9997719116842041\n",
    "                 Test Accuracy: 0.9995742092457421\n",
    "                 Iterations: 9\n",
    "        C = 0.01: Train Accuracy: 0.9989203819718995\n",
    "                  Test Accuracy: 0.9985401459854014\n",
    "                  Iterations: 8\n",
    "        C = 0.001: Train Accuracy: 0.998175293473633\n",
    "                   Test Accuracy: 0.9971411192214112\n",
    "                   Iterations: 6\n",
    "        As the regularization strengthens, the final accuracies of the model lowers, but the model converges faster. The weights of the model also lowers as regularization strengthens.\n",
    "        The high strength of regularization stops the model from overfitting thus having lower accuracy in training data.\n",
    "\n",
    "\n",
    "\n"
   ]
  },
  {
   "cell_type": "code",
   "execution_count": 2,
   "metadata": {
    "collapsed": true
   },
   "outputs": [],
   "source": [
    "import numpy as np\n",
    "import pandas as pd\n",
    "import matplotlib.pyplot as plt\n",
    "from sklearn.linear_model import LogisticRegression\n",
    "from sklearn.datasets import load_breast_cancer\n",
    "from sklearn import preprocessing\n",
    "from sklearn.model_selection import train_test_split\n",
    "from imblearn.under_sampling import RandomUnderSampler\n",
    "from sklearn.preprocessing import OneHotEncoder\n",
    "from imblearn.under_sampling import ClusterCentroids\n",
    "from sklearn.preprocessing import scale\n",
    "import heapq"
   ]
  },
  {
   "cell_type": "code",
   "execution_count": 3,
   "metadata": {},
   "outputs": [],
   "source": [
    "features = ['duration',\n",
    "'protocol_type',\n",
    "'service',\n",
    "'flag',\n",
    "'src_bytes',\n",
    "'dst_bytes',\n",
    "'land',\n",
    "'wrong_fragment',\n",
    "'urgent',\n",
    "'hot',\n",
    "'num_failed_logins',\n",
    "'logged_in',\n",
    "'num_compromised',\n",
    "'root_shell',\n",
    "'su_attempted',\n",
    "'num_root',\n",
    "'num_file_creations',\n",
    "'num_shells',\n",
    "'num_access_files',\n",
    "'num_outbound_cmds',\n",
    "'is_host_login',\n",
    "'is_guest_login',\n",
    "'count',\n",
    "'srv_count',\n",
    "'serror_rate',\n",
    "'srv_serror_rate',\n",
    "'rerror_rate',\n",
    "'srv_rerror_rate',\n",
    "'same_srv_rate',\n",
    "'diff_srv_rate',\n",
    "'srv_diff_host_rate',\n",
    "'dst_host_count',\n",
    "'dst_host_srv_count',\n",
    "'dst_host_same_srv_rate',\n",
    "'dst_host_diff_srv_rate',\n",
    "'dst_host_same_src_port_rate',\n",
    "'dst_host_srv_diff_host_rate',\n",
    "'dst_host_serror_rate',\n",
    "'dst_host_srv_serror_rate',\n",
    "'dst_host_rerror_rate',\n",
    "'dst_host_srv_rerror_rate',\n",
    "'label'\n",
    "]"
   ]
  },
  {
   "cell_type": "code",
   "execution_count": 4,
   "metadata": {},
   "outputs": [
    {
     "name": "stdout",
     "output_type": "stream",
     "text": [
      "The no of data points are: 4898431\n",
      "========================================\n",
      "The no of features are: 42\n",
      "========================================\n",
      "Some of the features are: ['duration', 'protocol_type', 'service', 'flag', 'src_bytes', 'dst_bytes', 'land', 'wrong_fragment', 'urgent', 'hot']\n"
     ]
    },
    {
     "data": {
      "text/html": [
       "<div>\n",
       "<style scoped>\n",
       "    .dataframe tbody tr th:only-of-type {\n",
       "        vertical-align: middle;\n",
       "    }\n",
       "\n",
       "    .dataframe tbody tr th {\n",
       "        vertical-align: top;\n",
       "    }\n",
       "\n",
       "    .dataframe thead th {\n",
       "        text-align: right;\n",
       "    }\n",
       "</style>\n",
       "<table border=\"1\" class=\"dataframe\">\n",
       "  <thead>\n",
       "    <tr style=\"text-align: right;\">\n",
       "      <th></th>\n",
       "      <th>duration</th>\n",
       "      <th>protocol_type</th>\n",
       "      <th>service</th>\n",
       "      <th>flag</th>\n",
       "      <th>src_bytes</th>\n",
       "      <th>dst_bytes</th>\n",
       "      <th>land</th>\n",
       "      <th>wrong_fragment</th>\n",
       "      <th>urgent</th>\n",
       "      <th>hot</th>\n",
       "      <th>...</th>\n",
       "      <th>dst_host_srv_count</th>\n",
       "      <th>dst_host_same_srv_rate</th>\n",
       "      <th>dst_host_diff_srv_rate</th>\n",
       "      <th>dst_host_same_src_port_rate</th>\n",
       "      <th>dst_host_srv_diff_host_rate</th>\n",
       "      <th>dst_host_serror_rate</th>\n",
       "      <th>dst_host_srv_serror_rate</th>\n",
       "      <th>dst_host_rerror_rate</th>\n",
       "      <th>dst_host_srv_rerror_rate</th>\n",
       "      <th>label</th>\n",
       "    </tr>\n",
       "  </thead>\n",
       "  <tbody>\n",
       "    <tr>\n",
       "      <th>0</th>\n",
       "      <td>0</td>\n",
       "      <td>tcp</td>\n",
       "      <td>http</td>\n",
       "      <td>SF</td>\n",
       "      <td>215</td>\n",
       "      <td>45076</td>\n",
       "      <td>0</td>\n",
       "      <td>0</td>\n",
       "      <td>0</td>\n",
       "      <td>0</td>\n",
       "      <td>...</td>\n",
       "      <td>0</td>\n",
       "      <td>0.0</td>\n",
       "      <td>0.0</td>\n",
       "      <td>0.00</td>\n",
       "      <td>0.0</td>\n",
       "      <td>0.0</td>\n",
       "      <td>0.0</td>\n",
       "      <td>0.0</td>\n",
       "      <td>0.0</td>\n",
       "      <td>normal.</td>\n",
       "    </tr>\n",
       "    <tr>\n",
       "      <th>1</th>\n",
       "      <td>0</td>\n",
       "      <td>tcp</td>\n",
       "      <td>http</td>\n",
       "      <td>SF</td>\n",
       "      <td>162</td>\n",
       "      <td>4528</td>\n",
       "      <td>0</td>\n",
       "      <td>0</td>\n",
       "      <td>0</td>\n",
       "      <td>0</td>\n",
       "      <td>...</td>\n",
       "      <td>1</td>\n",
       "      <td>1.0</td>\n",
       "      <td>0.0</td>\n",
       "      <td>1.00</td>\n",
       "      <td>0.0</td>\n",
       "      <td>0.0</td>\n",
       "      <td>0.0</td>\n",
       "      <td>0.0</td>\n",
       "      <td>0.0</td>\n",
       "      <td>normal.</td>\n",
       "    </tr>\n",
       "    <tr>\n",
       "      <th>2</th>\n",
       "      <td>0</td>\n",
       "      <td>tcp</td>\n",
       "      <td>http</td>\n",
       "      <td>SF</td>\n",
       "      <td>236</td>\n",
       "      <td>1228</td>\n",
       "      <td>0</td>\n",
       "      <td>0</td>\n",
       "      <td>0</td>\n",
       "      <td>0</td>\n",
       "      <td>...</td>\n",
       "      <td>2</td>\n",
       "      <td>1.0</td>\n",
       "      <td>0.0</td>\n",
       "      <td>0.50</td>\n",
       "      <td>0.0</td>\n",
       "      <td>0.0</td>\n",
       "      <td>0.0</td>\n",
       "      <td>0.0</td>\n",
       "      <td>0.0</td>\n",
       "      <td>normal.</td>\n",
       "    </tr>\n",
       "    <tr>\n",
       "      <th>3</th>\n",
       "      <td>0</td>\n",
       "      <td>tcp</td>\n",
       "      <td>http</td>\n",
       "      <td>SF</td>\n",
       "      <td>233</td>\n",
       "      <td>2032</td>\n",
       "      <td>0</td>\n",
       "      <td>0</td>\n",
       "      <td>0</td>\n",
       "      <td>0</td>\n",
       "      <td>...</td>\n",
       "      <td>3</td>\n",
       "      <td>1.0</td>\n",
       "      <td>0.0</td>\n",
       "      <td>0.33</td>\n",
       "      <td>0.0</td>\n",
       "      <td>0.0</td>\n",
       "      <td>0.0</td>\n",
       "      <td>0.0</td>\n",
       "      <td>0.0</td>\n",
       "      <td>normal.</td>\n",
       "    </tr>\n",
       "    <tr>\n",
       "      <th>4</th>\n",
       "      <td>0</td>\n",
       "      <td>tcp</td>\n",
       "      <td>http</td>\n",
       "      <td>SF</td>\n",
       "      <td>239</td>\n",
       "      <td>486</td>\n",
       "      <td>0</td>\n",
       "      <td>0</td>\n",
       "      <td>0</td>\n",
       "      <td>0</td>\n",
       "      <td>...</td>\n",
       "      <td>4</td>\n",
       "      <td>1.0</td>\n",
       "      <td>0.0</td>\n",
       "      <td>0.25</td>\n",
       "      <td>0.0</td>\n",
       "      <td>0.0</td>\n",
       "      <td>0.0</td>\n",
       "      <td>0.0</td>\n",
       "      <td>0.0</td>\n",
       "      <td>normal.</td>\n",
       "    </tr>\n",
       "  </tbody>\n",
       "</table>\n",
       "<p>5 rows × 42 columns</p>\n",
       "</div>"
      ],
      "text/plain": [
       "   duration protocol_type service flag  src_bytes  dst_bytes  land  \\\n",
       "0         0           tcp    http   SF        215      45076     0   \n",
       "1         0           tcp    http   SF        162       4528     0   \n",
       "2         0           tcp    http   SF        236       1228     0   \n",
       "3         0           tcp    http   SF        233       2032     0   \n",
       "4         0           tcp    http   SF        239        486     0   \n",
       "\n",
       "   wrong_fragment  urgent  hot  ...  dst_host_srv_count  \\\n",
       "0               0       0    0  ...                   0   \n",
       "1               0       0    0  ...                   1   \n",
       "2               0       0    0  ...                   2   \n",
       "3               0       0    0  ...                   3   \n",
       "4               0       0    0  ...                   4   \n",
       "\n",
       "   dst_host_same_srv_rate  dst_host_diff_srv_rate  \\\n",
       "0                     0.0                     0.0   \n",
       "1                     1.0                     0.0   \n",
       "2                     1.0                     0.0   \n",
       "3                     1.0                     0.0   \n",
       "4                     1.0                     0.0   \n",
       "\n",
       "   dst_host_same_src_port_rate  dst_host_srv_diff_host_rate  \\\n",
       "0                         0.00                          0.0   \n",
       "1                         1.00                          0.0   \n",
       "2                         0.50                          0.0   \n",
       "3                         0.33                          0.0   \n",
       "4                         0.25                          0.0   \n",
       "\n",
       "   dst_host_serror_rate  dst_host_srv_serror_rate  dst_host_rerror_rate  \\\n",
       "0                   0.0                       0.0                   0.0   \n",
       "1                   0.0                       0.0                   0.0   \n",
       "2                   0.0                       0.0                   0.0   \n",
       "3                   0.0                       0.0                   0.0   \n",
       "4                   0.0                       0.0                   0.0   \n",
       "\n",
       "   dst_host_srv_rerror_rate    label  \n",
       "0                       0.0  normal.  \n",
       "1                       0.0  normal.  \n",
       "2                       0.0  normal.  \n",
       "3                       0.0  normal.  \n",
       "4                       0.0  normal.  \n",
       "\n",
       "[5 rows x 42 columns]"
      ]
     },
     "execution_count": 4,
     "metadata": {},
     "output_type": "execute_result"
    }
   ],
   "source": [
    "#Read data\n",
    "data = pd.read_csv('kddcup.data', names=features, header=None)\n",
    "print('The no of data points are:',data.shape[0])\n",
    "print('='*40)\n",
    "print('The no of features are:',data.shape[1])\n",
    "print('='*40)\n",
    "print('Some of the features are:',features[:10])\n",
    "data.head()"
   ]
  },
  {
   "cell_type": "code",
   "execution_count": 5,
   "metadata": {},
   "outputs": [
    {
     "data": {
      "text/plain": [
       "label\n",
       "smurf.              2807886\n",
       "neptune.            1072017\n",
       "satan.                15892\n",
       "ipsweep.              12481\n",
       "portsweep.            10413\n",
       "nmap.                  2316\n",
       "back.                  2203\n",
       "warezclient.           1020\n",
       "teardrop.               979\n",
       "pod.                    264\n",
       "guess_passwd.            53\n",
       "buffer_overflow.         30\n",
       "land.                    21\n",
       "warezmaster.             20\n",
       "imap.                    12\n",
       "rootkit.                 10\n",
       "loadmodule.               9\n",
       "ftp_write.                8\n",
       "multihop.                 7\n",
       "phf.                      4\n",
       "perl.                     3\n",
       "spy.                      2\n",
       "Name: count, dtype: int64"
      ]
     },
     "execution_count": 5,
     "metadata": {},
     "output_type": "execute_result"
    }
   ],
   "source": [
    "#Drop normal datas\n",
    "data = data[data['label']!='normal.']\n",
    "data['label'].value_counts()"
   ]
  },
  {
   "cell_type": "code",
   "execution_count": 6,
   "metadata": {},
   "outputs": [
    {
     "data": {
      "text/plain": [
       "label\n",
       "not_probe    3884548\n",
       "probe          41102\n",
       "Name: count, dtype: int64"
      ]
     },
     "execution_count": 6,
     "metadata": {},
     "output_type": "execute_result"
    }
   ],
   "source": [
    "#Change labels to probe & not_probe classes\n",
    "data = data.replace(['ipsweep.','nmap.','portsweep.','satan.'], 'probe')\n",
    "data = data.replace(['back.','buffer_overflow.','ftp_write.','guess_passwd.','imap.','land.','loadmodule.','multihop.','neptune.','perl.','phf.','pod.','rootkit.','smurf.','spy.','teardrop.','warezclient.','warezmaster.'], 'not_probe')\n",
    "data['label'].value_counts()"
   ]
  },
  {
   "cell_type": "code",
   "execution_count": 7,
   "metadata": {},
   "outputs": [
    {
     "data": {
      "text/html": [
       "<div>\n",
       "<style scoped>\n",
       "    .dataframe tbody tr th:only-of-type {\n",
       "        vertical-align: middle;\n",
       "    }\n",
       "\n",
       "    .dataframe tbody tr th {\n",
       "        vertical-align: top;\n",
       "    }\n",
       "\n",
       "    .dataframe thead th {\n",
       "        text-align: right;\n",
       "    }\n",
       "</style>\n",
       "<table border=\"1\" class=\"dataframe\">\n",
       "  <thead>\n",
       "    <tr style=\"text-align: right;\">\n",
       "      <th></th>\n",
       "      <th>duration</th>\n",
       "      <th>src_bytes</th>\n",
       "      <th>dst_bytes</th>\n",
       "      <th>land</th>\n",
       "      <th>wrong_fragment</th>\n",
       "      <th>urgent</th>\n",
       "      <th>hot</th>\n",
       "      <th>num_failed_logins</th>\n",
       "      <th>logged_in</th>\n",
       "      <th>num_compromised</th>\n",
       "      <th>...</th>\n",
       "      <th>flag_REJ</th>\n",
       "      <th>flag_RSTO</th>\n",
       "      <th>flag_RSTOS0</th>\n",
       "      <th>flag_RSTR</th>\n",
       "      <th>flag_S0</th>\n",
       "      <th>flag_S1</th>\n",
       "      <th>flag_S2</th>\n",
       "      <th>flag_S3</th>\n",
       "      <th>flag_SF</th>\n",
       "      <th>flag_SH</th>\n",
       "    </tr>\n",
       "  </thead>\n",
       "  <tbody>\n",
       "    <tr>\n",
       "      <th>7448</th>\n",
       "      <td>184</td>\n",
       "      <td>1511</td>\n",
       "      <td>2957</td>\n",
       "      <td>0</td>\n",
       "      <td>0</td>\n",
       "      <td>0</td>\n",
       "      <td>3</td>\n",
       "      <td>0</td>\n",
       "      <td>1</td>\n",
       "      <td>2</td>\n",
       "      <td>...</td>\n",
       "      <td>False</td>\n",
       "      <td>False</td>\n",
       "      <td>False</td>\n",
       "      <td>False</td>\n",
       "      <td>False</td>\n",
       "      <td>False</td>\n",
       "      <td>False</td>\n",
       "      <td>False</td>\n",
       "      <td>True</td>\n",
       "      <td>False</td>\n",
       "    </tr>\n",
       "    <tr>\n",
       "      <th>7449</th>\n",
       "      <td>305</td>\n",
       "      <td>1735</td>\n",
       "      <td>2766</td>\n",
       "      <td>0</td>\n",
       "      <td>0</td>\n",
       "      <td>0</td>\n",
       "      <td>3</td>\n",
       "      <td>0</td>\n",
       "      <td>1</td>\n",
       "      <td>2</td>\n",
       "      <td>...</td>\n",
       "      <td>False</td>\n",
       "      <td>False</td>\n",
       "      <td>False</td>\n",
       "      <td>False</td>\n",
       "      <td>False</td>\n",
       "      <td>False</td>\n",
       "      <td>False</td>\n",
       "      <td>False</td>\n",
       "      <td>True</td>\n",
       "      <td>False</td>\n",
       "    </tr>\n",
       "    <tr>\n",
       "      <th>40481</th>\n",
       "      <td>79</td>\n",
       "      <td>281</td>\n",
       "      <td>1301</td>\n",
       "      <td>0</td>\n",
       "      <td>0</td>\n",
       "      <td>0</td>\n",
       "      <td>2</td>\n",
       "      <td>0</td>\n",
       "      <td>1</td>\n",
       "      <td>1</td>\n",
       "      <td>...</td>\n",
       "      <td>False</td>\n",
       "      <td>False</td>\n",
       "      <td>False</td>\n",
       "      <td>False</td>\n",
       "      <td>False</td>\n",
       "      <td>False</td>\n",
       "      <td>False</td>\n",
       "      <td>False</td>\n",
       "      <td>True</td>\n",
       "      <td>False</td>\n",
       "    </tr>\n",
       "    <tr>\n",
       "      <th>41114</th>\n",
       "      <td>25</td>\n",
       "      <td>269</td>\n",
       "      <td>2333</td>\n",
       "      <td>0</td>\n",
       "      <td>0</td>\n",
       "      <td>0</td>\n",
       "      <td>0</td>\n",
       "      <td>0</td>\n",
       "      <td>1</td>\n",
       "      <td>0</td>\n",
       "      <td>...</td>\n",
       "      <td>False</td>\n",
       "      <td>False</td>\n",
       "      <td>False</td>\n",
       "      <td>False</td>\n",
       "      <td>False</td>\n",
       "      <td>False</td>\n",
       "      <td>False</td>\n",
       "      <td>False</td>\n",
       "      <td>True</td>\n",
       "      <td>False</td>\n",
       "    </tr>\n",
       "    <tr>\n",
       "      <th>75985</th>\n",
       "      <td>0</td>\n",
       "      <td>0</td>\n",
       "      <td>0</td>\n",
       "      <td>0</td>\n",
       "      <td>0</td>\n",
       "      <td>0</td>\n",
       "      <td>0</td>\n",
       "      <td>0</td>\n",
       "      <td>0</td>\n",
       "      <td>0</td>\n",
       "      <td>...</td>\n",
       "      <td>False</td>\n",
       "      <td>False</td>\n",
       "      <td>False</td>\n",
       "      <td>False</td>\n",
       "      <td>True</td>\n",
       "      <td>False</td>\n",
       "      <td>False</td>\n",
       "      <td>False</td>\n",
       "      <td>False</td>\n",
       "      <td>False</td>\n",
       "    </tr>\n",
       "  </tbody>\n",
       "</table>\n",
       "<p>5 rows × 119 columns</p>\n",
       "</div>"
      ],
      "text/plain": [
       "       duration  src_bytes  dst_bytes  land  wrong_fragment  urgent  hot  \\\n",
       "7448        184       1511       2957     0               0       0    3   \n",
       "7449        305       1735       2766     0               0       0    3   \n",
       "40481        79        281       1301     0               0       0    2   \n",
       "41114        25        269       2333     0               0       0    0   \n",
       "75985         0          0          0     0               0       0    0   \n",
       "\n",
       "       num_failed_logins  logged_in  num_compromised  ...  flag_REJ  \\\n",
       "7448                   0          1                2  ...     False   \n",
       "7449                   0          1                2  ...     False   \n",
       "40481                  0          1                1  ...     False   \n",
       "41114                  0          1                0  ...     False   \n",
       "75985                  0          0                0  ...     False   \n",
       "\n",
       "       flag_RSTO  flag_RSTOS0  flag_RSTR  flag_S0  flag_S1  flag_S2  flag_S3  \\\n",
       "7448       False        False      False    False    False    False    False   \n",
       "7449       False        False      False    False    False    False    False   \n",
       "40481      False        False      False    False    False    False    False   \n",
       "41114      False        False      False    False    False    False    False   \n",
       "75985      False        False      False     True    False    False    False   \n",
       "\n",
       "       flag_SF  flag_SH  \n",
       "7448      True    False  \n",
       "7449      True    False  \n",
       "40481     True    False  \n",
       "41114     True    False  \n",
       "75985    False    False  \n",
       "\n",
       "[5 rows x 119 columns]"
      ]
     },
     "execution_count": 7,
     "metadata": {},
     "output_type": "execute_result"
    }
   ],
   "source": [
    "#One hot encoding categorical variables\n",
    "enc = OneHotEncoder(handle_unknown='ignore')\n",
    "cat_col = ['protocol_type','service','flag']\n",
    "data = pd.get_dummies(data, columns=cat_col)\n",
    "data.head()"
   ]
  },
  {
   "cell_type": "code",
   "execution_count": 8,
   "metadata": {},
   "outputs": [
    {
     "data": {
      "text/plain": [
       "label\n",
       "not_probe    3107638\n",
       "probe          32882\n",
       "Name: count, dtype: int64"
      ]
     },
     "execution_count": 8,
     "metadata": {},
     "output_type": "execute_result"
    }
   ],
   "source": [
    "#Split data into train and test data\n",
    "X_train, X_test, Y_train, Y_test = train_test_split(data.drop('label', axis=1), data['label'], stratify=data['label'], test_size=0.2, random_state=42)\n",
    "Y_train.value_counts()"
   ]
  },
  {
   "cell_type": "code",
   "execution_count": 9,
   "metadata": {},
   "outputs": [
    {
     "name": "stdout",
     "output_type": "stream",
     "text": [
      "label\n",
      "not_probe    32882\n",
      "probe        32882\n",
      "Name: count, dtype: int64\n",
      "label\n",
      "not_probe    8220\n",
      "probe        8220\n",
      "Name: count, dtype: int64\n"
     ]
    }
   ],
   "source": [
    "#under sample the majority class \n",
    "undersampler = RandomUnderSampler(random_state=42)\n",
    "X_train_res, Y_train_res = undersampler.fit_resample(X_train, Y_train)\n",
    "X_test_res, Y_test_res = undersampler.fit_resample(X_test, Y_test)\n",
    "print(Y_train_res.value_counts())\n",
    "print(Y_test_res.value_counts())"
   ]
  },
  {
   "cell_type": "code",
   "execution_count": 10,
   "metadata": {},
   "outputs": [],
   "source": [
    "#Standardize dataset\n",
    "X_train_res = scale(X_train_res)\n",
    "X_test_res = scale(X_test_res)"
   ]
  },
  {
   "cell_type": "code",
   "execution_count": 11,
   "metadata": {},
   "outputs": [
    {
     "name": "stdout",
     "output_type": "stream",
     "text": [
      "Train Accuracy: 1.0\n",
      "Test Accuracy: 0.9994525547445255\n",
      "Iterations: [47]\n"
     ]
    }
   ],
   "source": [
    "#no regularization training\n",
    "logreg = LogisticRegression(solver='lbfgs', max_iter=600, penalty=None)\n",
    "logreg.fit(X_train_res, Y_train_res)\n",
    "\n",
    "\n",
    "# Calculate accuracy on training data\n",
    "print('Train Accuracy: '+str(logreg.score(X_train_res, Y_train_res)))\n",
    "\n",
    "# Calculate accuracy on y=testing data\n",
    "print('Test Accuracy: '+str(logreg.score(X_test_res, Y_test_res)))\n",
    "\n",
    "#Iterations\n",
    "print('Iterations: '+str(logreg.n_iter_))"
   ]
  },
  {
   "cell_type": "code",
   "execution_count": 12,
   "metadata": {},
   "outputs": [
    {
     "data": {
      "image/png": "[encoded data removed]",
      "text/plain": [
       "<Figure size 640x480 with 1 Axes>"
      ]
     },
     "metadata": {},
     "output_type": "display_data"
    },
    {
     "name": "stdout",
     "output_type": "stream",
     "text": [
      "dst_host_serror_rate\n",
      "dst_host_diff_srv_rate\n",
      "dst_host_rerror_rate\n",
      "diff_srv_rate\n",
      "dst_host_same_src_port_rate\n",
      "rerror_rate\n",
      "dst_host_same_srv_rate\n",
      "srv_count\n",
      "protocol_type_udp\n",
      "count\n"
     ]
    }
   ],
   "source": [
    "importance = np.abs(logreg.coef_[0])\n",
    "# plot feature importance\n",
    "plt.bar([x for x in range(len(importance))], importance)\n",
    "plt.show()\n",
    "\n",
    "#Get features that have the largest weights in absolute value\n",
    "list = heapq.nlargest(10, range(len(importance)), importance.take)\n",
    "for i in list:\n",
    "    print(X_test.columns[i])"
   ]
  },
  {
   "cell_type": "code",
   "execution_count": 13,
   "metadata": {},
   "outputs": [
    {
     "name": "stdout",
     "output_type": "stream",
     "text": [
      "Train Accuracy: 0.9999087646736816\n",
      "Test Accuracy: 0.9998783454987834\n",
      "Iterations: [13]\n"
     ]
    }
   ],
   "source": [
    "#L1 regularization\n",
    "logreg = LogisticRegression(solver='liblinear', max_iter=1000, penalty='l1')\n",
    "logreg.fit(X_train_res, Y_train_res)\n",
    "\n",
    "# Calculate accuracy on training data\n",
    "print('Train Accuracy: '+str(logreg.score(X_train_res, Y_train_res)))\n",
    "\n",
    "# Calculate accuracy on y=testing data\n",
    "print('Test Accuracy: '+str(logreg.score(X_test_res, Y_test_res)))\n",
    "\n",
    "#Iterations\n",
    "print('Iterations: '+str(logreg.n_iter_))"
   ]
  },
  {
   "cell_type": "code",
   "execution_count": 14,
   "metadata": {},
   "outputs": [
    {
     "data": {
      "image/png": "[encoded data removed]",
      "text/plain": [
       "<Figure size 640x480 with 1 Axes>"
      ]
     },
     "metadata": {},
     "output_type": "display_data"
    },
    {
     "name": "stdout",
     "output_type": "stream",
     "text": [
      "dst_host_diff_srv_rate\n",
      "dst_host_serror_rate\n",
      "count\n",
      "diff_srv_rate\n",
      "dst_host_rerror_rate\n",
      "dst_host_same_src_port_rate\n",
      "service_ecr_i\n",
      "srv_count\n",
      "dst_host_srv_count\n",
      "dst_host_same_srv_rate\n"
     ]
    }
   ],
   "source": [
    "importance = np.abs(logreg.coef_[0])\n",
    "# plot feature importance\n",
    "plt.bar([x for x in range(len(importance))], importance)\n",
    "plt.show()\n",
    "\n",
    "#Get features that have the largest weights in absolute value\n",
    "list = heapq.nlargest(10, range(len(importance)), importance.take)\n",
    "for i in list:\n",
    "    print(X_test.columns[i])"
   ]
  },
  {
   "cell_type": "code",
   "execution_count": 16,
   "metadata": {},
   "outputs": [
    {
     "name": "stdout",
     "output_type": "stream",
     "text": [
      "Train Accuracy: 1.0\n",
      "Test Accuracy: 0.9995742092457421\n",
      "Iterations: [11]\n"
     ]
    }
   ],
   "source": [
    "#L2 regularization, strength of regularization: 10(smaller values specify stronger regularization.)\n",
    "logreg = LogisticRegression(solver='liblinear', max_iter=1000, penalty='l2', C=10)\n",
    "logreg.fit(X_train_res, Y_train_res)\n",
    "\n",
    "# Calculate accuracy on training data\n",
    "print('Train Accuracy: '+str(logreg.score(X_train_res, Y_train_res)))\n",
    "\n",
    "# Calculate accuracy on y=testing data\n",
    "print('Test Accuracy: '+str(logreg.score(X_test_res, Y_test_res)))\n",
    "\n",
    "#Iterations\n",
    "print('Iterations: '+str(logreg.n_iter_))"
   ]
  },
  {
   "cell_type": "code",
   "execution_count": 17,
   "metadata": {},
   "outputs": [
    {
     "data": {
      "image/png": "[encoded data removed]",
      "text/plain": [
       "<Figure size 640x480 with 1 Axes>"
      ]
     },
     "metadata": {},
     "output_type": "display_data"
    },
    {
     "name": "stdout",
     "output_type": "stream",
     "text": [
      "dst_host_serror_rate\n",
      "dst_host_diff_srv_rate\n",
      "diff_srv_rate\n",
      "dst_host_rerror_rate\n",
      "dst_host_same_src_port_rate\n",
      "rerror_rate\n",
      "dst_host_same_srv_rate\n",
      "count\n",
      "same_srv_rate\n",
      "service_eco_i\n"
     ]
    }
   ],
   "source": [
    "importance = np.abs(logreg.coef_[0])\n",
    "# plot feature importance\n",
    "plt.bar([x for x in range(len(importance))], importance)\n",
    "plt.show()\n",
    "\n",
    "#Get features that have the largest weights in absolute value\n",
    "list = heapq.nlargest(10, range(len(importance)), importance.take)\n",
    "for i in list:\n",
    "    print(X_test.columns[i])"
   ]
  },
  {
   "cell_type": "code",
   "execution_count": 18,
   "metadata": {},
   "outputs": [
    {
     "name": "stdout",
     "output_type": "stream",
     "text": [
      "Train Accuracy: 0.9999391764491211\n",
      "Test Accuracy: 0.9996350364963503\n",
      "Iterations: [11]\n"
     ]
    }
   ],
   "source": [
    "#L2 regularization, strength of regularization: 1(smaller values specify stronger regularization.)\n",
    "logreg = LogisticRegression(solver='liblinear', max_iter=1000, penalty='l2', C=1)\n",
    "logreg.fit(X_train_res, Y_train_res)\n",
    "\n",
    "# Calculate accuracy on training data\n",
    "print('Train Accuracy: '+str(logreg.score(X_train_res, Y_train_res)))\n",
    "\n",
    "# Calculate accuracy on y=testing data\n",
    "print('Test Accuracy: '+str(logreg.score(X_test_res, Y_test_res)))\n",
    "\n",
    "#Iterations\n",
    "print('Iterations: '+str(logreg.n_iter_))"
   ]
  },
  {
   "cell_type": "code",
   "execution_count": 19,
   "metadata": {},
   "outputs": [
    {
     "name": "stdout",
     "output_type": "stream",
     "text": [
      "Train Accuracy: 0.9997719116842041\n",
      "Test Accuracy: 0.9995742092457421\n",
      "Iterations: [9]\n"
     ]
    }
   ],
   "source": [
    "#L2 regularization, strength of regularization: 0.1(smaller values specify stronger regularization.)\n",
    "logreg = LogisticRegression(solver='liblinear', max_iter=1000, penalty='l2', C=0.1)\n",
    "logreg.fit(X_train_res, Y_train_res)\n",
    "\n",
    "# Calculate accuracy on training data\n",
    "print('Train Accuracy: '+str(logreg.score(X_train_res, Y_train_res)))\n",
    "\n",
    "# Calculate accuracy on y=testing data\n",
    "print('Test Accuracy: '+str(logreg.score(X_test_res, Y_test_res)))\n",
    "\n",
    "#Iterations\n",
    "print('Iterations: '+str(logreg.n_iter_))"
   ]
  },
  {
   "cell_type": "code",
   "execution_count": 20,
   "metadata": {},
   "outputs": [
    {
     "data": {
      "image/png": "[encoded data removed]",
      "text/plain": [
       "<Figure size 640x480 with 1 Axes>"
      ]
     },
     "metadata": {},
     "output_type": "display_data"
    },
    {
     "name": "stdout",
     "output_type": "stream",
     "text": [
      "diff_srv_rate\n",
      "dst_host_diff_srv_rate\n",
      "dst_host_serror_rate\n",
      "dst_host_same_src_port_rate\n",
      "srv_count\n",
      "dst_host_rerror_rate\n",
      "count\n",
      "dst_host_count\n",
      "dst_host_srv_count\n",
      "service_ecr_i\n"
     ]
    }
   ],
   "source": [
    "importance = np.abs(logreg.coef_[0])\n",
    "# plot feature importance\n",
    "plt.bar([x for x in range(len(importance))], importance)\n",
    "plt.show()\n",
    "\n",
    "#Get features that have the largest weights in absolute value\n",
    "list = heapq.nlargest(10, range(len(importance)), importance.take)\n",
    "for i in list:\n",
    "    print(X_test.columns[i])"
   ]
  },
  {
   "cell_type": "code",
   "execution_count": 21,
   "metadata": {},
   "outputs": [
    {
     "name": "stdout",
     "output_type": "stream",
     "text": [
      "Train Accuracy: 0.9989203819718995\n",
      "Test Accuracy: 0.9985401459854014\n",
      "Iterations: [8]\n"
     ]
    }
   ],
   "source": [
    "#L2 regularization, strength of regularization: 0.01(smaller values specify stronger regularization.)\n",
    "logreg = LogisticRegression(solver='liblinear', max_iter=1000, penalty='l2', C=0.01)\n",
    "logreg.fit(X_train_res, Y_train_res)\n",
    "\n",
    "# Calculate accuracy on training data\n",
    "print('Train Accuracy: '+str(logreg.score(X_train_res, Y_train_res)))\n",
    "\n",
    "# Calculate accuracy on y=testing data\n",
    "print('Test Accuracy: '+str(logreg.score(X_test_res, Y_test_res)))\n",
    "\n",
    "#Iterations\n",
    "print('Iterations: '+str(logreg.n_iter_))"
   ]
  },
  {
   "cell_type": "code",
   "execution_count": 22,
   "metadata": {},
   "outputs": [
    {
     "data": {
      "image/png": "[encoded data removed]",
      "text/plain": [
       "<Figure size 640x480 with 1 Axes>"
      ]
     },
     "metadata": {},
     "output_type": "display_data"
    },
    {
     "name": "stdout",
     "output_type": "stream",
     "text": [
      "diff_srv_rate\n",
      "dst_host_diff_srv_rate\n",
      "srv_count\n",
      "dst_host_count\n",
      "dst_host_same_src_port_rate\n",
      "dst_host_serror_rate\n",
      "count\n",
      "service_ecr_i\n",
      "service_eco_i\n",
      "protocol_type_udp\n"
     ]
    }
   ],
   "source": [
    "importance = np.abs(logreg.coef_[0])\n",
    "# plot feature importance\n",
    "plt.bar([x for x in range(len(importance))], importance)\n",
    "plt.show()\n",
    "\n",
    "#Get features that have the largest weights in absolute value\n",
    "list = heapq.nlargest(10, range(len(importance)), importance.take)\n",
    "for i in list:\n",
    "    print(X_test.columns[i])"
   ]
  },
  {
   "cell_type": "code",
   "execution_count": 23,
   "metadata": {},
   "outputs": [
    {
     "name": "stdout",
     "output_type": "stream",
     "text": [
      "Train Accuracy: 0.998175293473633\n",
      "Test Accuracy: 0.9971411192214112\n",
      "Iterations: [6]\n"
     ]
    }
   ],
   "source": [
    "#L2 regularization, strength of regularization: 0.001(smaller values specify stronger regularization.)\n",
    "logreg = LogisticRegression(solver='liblinear', max_iter=10000, penalty='l2', C=0.001)\n",
    "logreg.fit(X_train_res, Y_train_res)\n",
    "\n",
    "\n",
    "\n",
    "# Calculate accuracy on training data\n",
    "print('Train Accuracy: '+str(logreg.score(X_train_res, Y_train_res)))\n",
    "\n",
    "# Calculate accuracy on y=testing data\n",
    "print('Test Accuracy: '+str(logreg.score(X_test_res, Y_test_res)))\n",
    "\n",
    "#Iterations\n",
    "print('Iterations: '+str(logreg.n_iter_))"
   ]
  },
  {
   "cell_type": "code",
   "execution_count": 24,
   "metadata": {},
   "outputs": [
    {
     "data": {
      "image/png": "[encoded data removed]",
      "text/plain": [
       "<Figure size 640x480 with 1 Axes>"
      ]
     },
     "metadata": {},
     "output_type": "display_data"
    },
    {
     "name": "stdout",
     "output_type": "stream",
     "text": [
      "dst_host_diff_srv_rate\n",
      "diff_srv_rate\n",
      "srv_count\n",
      "dst_host_count\n",
      "service_ecr_i\n",
      "service_eco_i\n",
      "service_other\n",
      "count\n",
      "protocol_type_udp\n",
      "dst_host_srv_diff_host_rate\n"
     ]
    }
   ],
   "source": [
    "importance = np.abs(logreg.coef_[0])\n",
    "# plot feature importance\n",
    "plt.bar([x for x in range(len(importance))], importance)\n",
    "plt.show()\n",
    "\n",
    "#Get features that have the largest weights in absolute value\n",
    "list = heapq.nlargest(10, range(len(importance)), importance.take)\n",
    "for i in list:\n",
    "    print(X_test.columns[i])"
   ]
  }
 ],
 "metadata": {
  "kernelspec": {
   "display_name": "Python 3",
   "language": "python",
   "name": "python3"
  },
  "language_info": {
   "codemirror_mode": {
    "name": "ipython",
    "version": 3
   },
   "file_extension": ".py",
   "mimetype": "text/x-python",
   "name": "python",
   "nbconvert_exporter": "python",
   "pygments_lexer": "ipython3",
   "version": "3.11.4"
  }
 },
 "nbformat": 4,
 "nbformat_minor": 2
}
