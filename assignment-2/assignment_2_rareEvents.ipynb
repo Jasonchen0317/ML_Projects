{
  "cells": [
    {
      "cell_type": "markdown",
      "metadata": {},
      "source": [
        "<a target=\"_blank\" href=\"https://colab.research.google.com/github/Jasonchen0317/CSGY-6613-Assignment/blob/main/assignment-2/assignment_2_rareEvents.ipynb\">\n",
        "  <img src=\"https://colab.research.google.com/assets/colab-badge.svg\" alt=\"Open In Colab\"/>\n",
        "</a>"
      ]
    },
    {
      "cell_type": "code",
      "execution_count": 2,
      "metadata": {
        "colab": {
          "base_uri": "https://localhost:8080/",
          "height": 35
        },
        "id": "MHANgrIPBc02",
        "outputId": "0f5c2736-808d-4dc9-d320-63de11d3f178"
      },
      "outputs": [
        {
          "name": "stderr",
          "output_type": "stream",
          "text": [
            "c:\\Users\\jason\\AppData\\Local\\Programs\\Python\\Python311\\Lib\\site-packages\\tqdm\\auto.py:21: TqdmWarning: IProgress not found. Please update jupyter and ipywidgets. See https://ipywidgets.readthedocs.io/en/stable/user_install.html\n",
            "  from .autonotebook import tqdm as notebook_tqdm\n"
          ]
        }
      ],
      "source": [
        "# import os\n",
        "# os.environ['LD_LIBRARY_PATH'] = '/workspaces/artificial_intelligence/.venv/lib/python3.11/site-packages/tensorrt_libs'\n",
        "\n",
        "import tensorflow as tf\n",
        "import pandas as pd\n",
        "import keras\n",
        "import optuna\n",
        "from keras import layers\n",
        "from keras import models \n",
        "from sklearn.model_selection import train_test_split\n",
        "gpus = tf.config.list_physical_devices('GPU')\n",
        "for gpu in gpus:\n",
        "    print(\"Name:\", gpu.name, \"  Type:\", gpu.device_type)"
      ]
    },
    {
      "cell_type": "code",
      "execution_count": 3,
      "metadata": {
        "id": "NMFLie1YGji1"
      },
      "outputs": [],
      "source": [
        "import os, shutil"
      ]
    },
    {
      "cell_type": "code",
      "execution_count": 4,
      "metadata": {},
      "outputs": [
        {
          "ename": "KeyboardInterrupt",
          "evalue": "",
          "output_type": "error",
          "traceback": [
            "\u001b[1;31m---------------------------------------------------------------------------\u001b[0m",
            "\u001b[1;31mKeyboardInterrupt\u001b[0m                         Traceback (most recent call last)",
            "\u001b[1;32mc:\\Users\\jason\\CSGY-6613-Assignment\\assignment-2\\assignment_2_rareEvents.ipynb Cell 4\u001b[0m line \u001b[0;36m9\n\u001b[0;32m      <a href='vscode-notebook-cell:/c%3A/Users/jason/CSGY-6613-Assignment/assignment-2/assignment_2_rareEvents.ipynb#W3sZmlsZQ%3D%3D?line=5'>6</a>\u001b[0m \u001b[39mimport\u001b[39;00m \u001b[39mzipfile\u001b[39;00m\n\u001b[0;32m      <a href='vscode-notebook-cell:/c%3A/Users/jason/CSGY-6613-Assignment/assignment-2/assignment_2_rareEvents.ipynb#W3sZmlsZQ%3D%3D?line=7'>8</a>\u001b[0m \u001b[39mwith\u001b[39;00m zipfile\u001b[39m.\u001b[39mZipFile(train_path, \u001b[39m'\u001b[39m\u001b[39mr\u001b[39m\u001b[39m'\u001b[39m) \u001b[39mas\u001b[39;00m zipp:\n\u001b[1;32m----> <a href='vscode-notebook-cell:/c%3A/Users/jason/CSGY-6613-Assignment/assignment-2/assignment_2_rareEvents.ipynb#W3sZmlsZQ%3D%3D?line=8'>9</a>\u001b[0m     zipp\u001b[39m.\u001b[39;49mextractall(files)\n\u001b[0;32m     <a href='vscode-notebook-cell:/c%3A/Users/jason/CSGY-6613-Assignment/assignment-2/assignment_2_rareEvents.ipynb#W3sZmlsZQ%3D%3D?line=10'>11</a>\u001b[0m \u001b[39mwith\u001b[39;00m zipfile\u001b[39m.\u001b[39mZipFile(test_path, \u001b[39m'\u001b[39m\u001b[39mr\u001b[39m\u001b[39m'\u001b[39m) \u001b[39mas\u001b[39;00m zipp:\n\u001b[0;32m     <a href='vscode-notebook-cell:/c%3A/Users/jason/CSGY-6613-Assignment/assignment-2/assignment_2_rareEvents.ipynb#W3sZmlsZQ%3D%3D?line=11'>12</a>\u001b[0m     zipp\u001b[39m.\u001b[39mextractall(files)\n",
            "File \u001b[1;32mc:\\Users\\jason\\AppData\\Local\\Programs\\Python\\Python311\\Lib\\zipfile.py:1681\u001b[0m, in \u001b[0;36mZipFile.extractall\u001b[1;34m(self, path, members, pwd)\u001b[0m\n\u001b[0;32m   1678\u001b[0m     path \u001b[39m=\u001b[39m os\u001b[39m.\u001b[39mfspath(path)\n\u001b[0;32m   1680\u001b[0m \u001b[39mfor\u001b[39;00m zipinfo \u001b[39min\u001b[39;00m members:\n\u001b[1;32m-> 1681\u001b[0m     \u001b[39mself\u001b[39;49m\u001b[39m.\u001b[39;49m_extract_member(zipinfo, path, pwd)\n",
            "File \u001b[1;32mc:\\Users\\jason\\AppData\\Local\\Programs\\Python\\Python311\\Lib\\zipfile.py:1736\u001b[0m, in \u001b[0;36mZipFile._extract_member\u001b[1;34m(self, member, targetpath, pwd)\u001b[0m\n\u001b[0;32m   1732\u001b[0m     \u001b[39mreturn\u001b[39;00m targetpath\n\u001b[0;32m   1734\u001b[0m \u001b[39mwith\u001b[39;00m \u001b[39mself\u001b[39m\u001b[39m.\u001b[39mopen(member, pwd\u001b[39m=\u001b[39mpwd) \u001b[39mas\u001b[39;00m source, \\\n\u001b[0;32m   1735\u001b[0m      \u001b[39mopen\u001b[39m(targetpath, \u001b[39m\"\u001b[39m\u001b[39mwb\u001b[39m\u001b[39m\"\u001b[39m) \u001b[39mas\u001b[39;00m target:\n\u001b[1;32m-> 1736\u001b[0m     shutil\u001b[39m.\u001b[39;49mcopyfileobj(source, target)\n\u001b[0;32m   1738\u001b[0m \u001b[39mreturn\u001b[39;00m targetpath\n",
            "File \u001b[1;32mc:\\Users\\jason\\AppData\\Local\\Programs\\Python\\Python311\\Lib\\shutil.py:200\u001b[0m, in \u001b[0;36mcopyfileobj\u001b[1;34m(fsrc, fdst, length)\u001b[0m\n\u001b[0;32m    198\u001b[0m \u001b[39mif\u001b[39;00m \u001b[39mnot\u001b[39;00m buf:\n\u001b[0;32m    199\u001b[0m     \u001b[39mbreak\u001b[39;00m\n\u001b[1;32m--> 200\u001b[0m fdst_write(buf)\n",
            "\u001b[1;31mKeyboardInterrupt\u001b[0m: "
          ]
        }
      ],
      "source": [
        "train_path = \"C:/kaggle/dogs-vs-cats/train.zip\"\n",
        "test_path = \"C:/kaggle/dogs-vs-cats/test1.zip\"\n",
        "\n",
        "files = \"C:/kaggle/working/\"\n",
        "\n",
        "import zipfile\n",
        "\n",
        "with zipfile.ZipFile(train_path, 'r') as zipp:\n",
        "    zipp.extractall(files)\n",
        "    \n",
        "with zipfile.ZipFile(test_path, 'r') as zipp:\n",
        "    zipp.extractall(files)"
      ]
    },
    {
      "cell_type": "code",
      "execution_count": 17,
      "metadata": {},
      "outputs": [
        {
          "data": {
            "text/html": [
              "<div>\n",
              "<style scoped>\n",
              "    .dataframe tbody tr th:only-of-type {\n",
              "        vertical-align: middle;\n",
              "    }\n",
              "\n",
              "    .dataframe tbody tr th {\n",
              "        vertical-align: top;\n",
              "    }\n",
              "\n",
              "    .dataframe thead th {\n",
              "        text-align: right;\n",
              "    }\n",
              "</style>\n",
              "<table border=\"1\" class=\"dataframe\">\n",
              "  <thead>\n",
              "    <tr style=\"text-align: right;\">\n",
              "      <th></th>\n",
              "      <th>filename</th>\n",
              "      <th>label</th>\n",
              "    </tr>\n",
              "  </thead>\n",
              "  <tbody>\n",
              "    <tr>\n",
              "      <th>0</th>\n",
              "      <td>cat.0.jpg</td>\n",
              "      <td>cat</td>\n",
              "    </tr>\n",
              "    <tr>\n",
              "      <th>1</th>\n",
              "      <td>cat.1.jpg</td>\n",
              "      <td>cat</td>\n",
              "    </tr>\n",
              "    <tr>\n",
              "      <th>2</th>\n",
              "      <td>cat.10.jpg</td>\n",
              "      <td>cat</td>\n",
              "    </tr>\n",
              "    <tr>\n",
              "      <th>3</th>\n",
              "      <td>cat.100.jpg</td>\n",
              "      <td>cat</td>\n",
              "    </tr>\n",
              "    <tr>\n",
              "      <th>4</th>\n",
              "      <td>cat.1000.jpg</td>\n",
              "      <td>cat</td>\n",
              "    </tr>\n",
              "  </tbody>\n",
              "</table>\n",
              "</div>"
            ],
            "text/plain": [
              "       filename label\n",
              "0     cat.0.jpg   cat\n",
              "1     cat.1.jpg   cat\n",
              "2    cat.10.jpg   cat\n",
              "3   cat.100.jpg   cat\n",
              "4  cat.1000.jpg   cat"
            ]
          },
          "execution_count": 17,
          "metadata": {},
          "output_type": "execute_result"
        }
      ],
      "source": [
        "image_dir = \"C:/kaggle/working/train/\"\n",
        "\n",
        "filenames = os.listdir(image_dir)\n",
        "labels = [x.split(\".\")[0] for x in filenames]\n",
        "\n",
        "data = pd.DataFrame({\"filename\": filenames, \"label\": labels})\n",
        "\n",
        "data.head()"
      ]
    },
    {
      "cell_type": "code",
      "execution_count": 18,
      "metadata": {},
      "outputs": [],
      "source": [
        "data = data.sample(frac =0.16) "
      ]
    },
    {
      "cell_type": "code",
      "execution_count": 19,
      "metadata": {},
      "outputs": [
        {
          "name": "stdout",
          "output_type": "stream",
          "text": [
            "The shape of train data (2000, 2)\n",
            "The shape of test data (1000, 2)\n",
            "The shape of validation data (1000, 2)\n"
          ]
        }
      ],
      "source": [
        "labels = data['label']\n",
        "\n",
        "X_train, X_temp = train_test_split(data, test_size=0.5, stratify=labels, random_state = 42)\n",
        "\n",
        "label_test_val = X_temp['label']\n",
        "\n",
        "X_test, X_val = train_test_split(X_temp, test_size=0.5, stratify=label_test_val, random_state = 42)\n",
        "\n",
        "print('The shape of train data',X_train.shape)\n",
        "print('The shape of test data',X_test.shape)\n",
        "print('The shape of validation data',X_val.shape)"
      ]
    },
    {
      "cell_type": "code",
      "execution_count": 20,
      "metadata": {},
      "outputs": [],
      "source": [
        "image_size = 150\n",
        "image_channel = 3\n",
        "bat_size = 20"
      ]
    },
    {
      "cell_type": "code",
      "execution_count": 21,
      "metadata": {},
      "outputs": [],
      "source": [
        "from keras.preprocessing.image import ImageDataGenerator\n",
        "train_datagen = ImageDataGenerator(rescale=1./255,\n",
        "    rotation_range=40,\n",
        "    width_shift_range=0.2,\n",
        "    height_shift_range=0.2,\n",
        "    shear_range=0.2,\n",
        "    zoom_range=0.2,\n",
        "    horizontal_flip=True,)\n",
        "\n",
        "test_datagen = ImageDataGenerator(rescale=1./255)"
      ]
    },
    {
      "cell_type": "code",
      "execution_count": 22,
      "metadata": {},
      "outputs": [
        {
          "name": "stdout",
          "output_type": "stream",
          "text": [
            "Found 2000 validated image filenames belonging to 2 classes.\n",
            "Found 1000 validated image filenames belonging to 2 classes.\n",
            "Found 1000 validated image filenames belonging to 2 classes.\n"
          ]
        }
      ],
      "source": [
        "train_generator = train_datagen.flow_from_dataframe(X_train,\n",
        "                                                    directory = image_dir,\n",
        "                                                    x_col= 'filename',\n",
        "                                                    y_col= 'label',\n",
        "                                                    batch_size = bat_size,\n",
        "                                                    target_size = (image_size,image_size)\n",
        "                                                   )\n",
        "validation_generator = test_datagen.flow_from_dataframe(X_val, \n",
        "                                                 directory = image_dir,\n",
        "                                                 x_col= 'filename',\n",
        "                                                 y_col= 'label',\n",
        "                                                 batch_size = bat_size,\n",
        "                                                 target_size = (image_size,image_size),\n",
        "                                                 shuffle=False\n",
        "                                                )\n",
        "\n",
        "test_generator = test_datagen.flow_from_dataframe(X_test, \n",
        "                                                  directory = image_dir,\n",
        "                                                  x_col= 'filename',\n",
        "                                                  y_col= 'label',\n",
        "                                                  batch_size = bat_size,\n",
        "                                                  target_size = (image_size,image_size),\n",
        "                                                  shuffle=False\n",
        "                                                 )"
      ]
    },
    {
      "cell_type": "code",
      "execution_count": 101,
      "metadata": {},
      "outputs": [],
      "source": [
        "def create_cnn_model(trial):\n",
        "    # We optimize the numbers of layers, their units and weight decay parameter.\n",
        "    \n",
        "    num_hidden = trial.suggest_categorical(\"num_hidden\", [128, 256, 512])\n",
        "    \n",
        "    model = models.Sequential()\n",
        "    model.add(layers.Conv2D(\n",
        "                filters=trial.suggest_categorical(\"filters1\", [32, 64]),\n",
        "                kernel_size=trial.suggest_categorical(\"kernel_size1\", [3, 5]),\n",
        "                activation='relu',\n",
        "                input_shape=(150, 150, 3)\n",
        "                )\n",
        "            )\n",
        "    model.add(layers.MaxPooling2D((2, 2)))\n",
        "    model.add(layers.Conv2D(\n",
        "                filters=trial.suggest_categorical(\"filters2\", [32, 64]),\n",
        "                kernel_size=trial.suggest_categorical(\"kernel_size2\", [3, 5]),\n",
        "                activation='relu'\n",
        "                )\n",
        "            )\n",
        "    model.add(layers.MaxPooling2D((2, 2)))\n",
        "    model.add(layers.Conv2D(\n",
        "                filters=trial.suggest_categorical(\"filters3\", [64, 128]),\n",
        "                kernel_size=trial.suggest_categorical(\"kernel_size3\", [3, 5]),\n",
        "                activation='relu'\n",
        "                )\n",
        "            )\n",
        "    model.add(layers.Dropout(0.2))\n",
        "    model.add(layers.MaxPooling2D((2, 2)))\n",
        "    model.add(layers.Conv2D(\n",
        "                filters=trial.suggest_categorical(\"filters4\", [64, 128]),\n",
        "                kernel_size=trial.suggest_categorical(\"kernel_size4\", [3, 5]),\n",
        "                activation='relu'\n",
        "                )\n",
        "            )\n",
        "    model.add(layers.Dropout(0.2))\n",
        "    model.add(layers.MaxPooling2D((2, 2)))\n",
        "    model.add(layers.Flatten())\n",
        "    model.add(layers.Dense(num_hidden, activation='relu'))\n",
        "    model.add(layers.Dropout(0.2))\n",
        "    model.add(layers.Dense(2, activation='sigmoid'))\n",
        "    \n",
        "    \n",
        "    \n",
        "    \n",
        "    return model"
      ]
    },
    {
      "cell_type": "code",
      "execution_count": 102,
      "metadata": {},
      "outputs": [],
      "source": [
        "def create_optimizer(trial):\n",
        "    # We optimize the choice of optimizers as well as their parameters.\n",
        "    kwargs = {}\n",
        "    optimizer_options = [\"RMSprop\", \"Adam\", \"SGD\"]\n",
        "    optimizer_selected = trial.suggest_categorical(\"optimizer\", optimizer_options)\n",
        "    if optimizer_selected == \"RMSprop\":\n",
        "        kwargs[\"learning_rate\"] = trial.suggest_float(\n",
        "            \"rmsprop_learning_rate\", 1e-5, 1e-1, log=True\n",
        "        )\n",
        "        kwargs[\"weight_decay\"] = trial.suggest_float(\"rmsprop_weight_decay\", 0.85, 0.99)\n",
        "        kwargs[\"momentum\"] = trial.suggest_float(\"rmsprop_momentum\", 1e-5, 1e-1, log=True)\n",
        "    elif optimizer_selected == \"Adam\":\n",
        "        kwargs[\"learning_rate\"] = trial.suggest_float(\"adam_learning_rate\", 1e-5, 1e-1, log=True)\n",
        "    elif optimizer_selected == \"SGD\":\n",
        "        kwargs[\"learning_rate\"] = trial.suggest_float(\n",
        "            \"sgd_opt_learning_rate\", 1e-5, 1e-1, log=True\n",
        "        )\n",
        "        kwargs[\"momentum\"] = trial.suggest_float(\"sgd_opt_momentum\", 1e-5, 1e-1, log=True)\n",
        "\n",
        "    optimizer = getattr(tf.optimizers, optimizer_selected)(**kwargs)\n",
        "    return optimizer"
      ]
    },
    {
      "cell_type": "code",
      "execution_count": 103,
      "metadata": {},
      "outputs": [],
      "source": [
        "def objective_cnn(trial):\n",
        "    # Get MNIST data.\n",
        "\n",
        "    # Build model and optimizer.\n",
        "    model = create_cnn_model(trial)\n",
        "    \n",
        "    optimizer = create_optimizer(trial)\n",
        "    model.compile(\n",
        "        loss=\"binary_crossentropy\",\n",
        "        optimizer=optimizer,\n",
        "        metrics=[\"accuracy\"],\n",
        "    )\n",
        "    model.fit(\n",
        "      train_generator,\n",
        "      epochs=10,\n",
        "      validation_data=validation_generator,\n",
        "      batch_size=128\n",
        "    )\n",
        "    score = model.evaluate(test_generator, verbose=0)\n",
        "    return score[1]"
      ]
    },
    {
      "cell_type": "code",
      "execution_count": 104,
      "metadata": {},
      "outputs": [
        {
          "name": "stderr",
          "output_type": "stream",
          "text": [
            "[I 2023-10-05 20:58:17,822] A new study created in memory with name: no-name-d8e76212-7b04-4f61-b204-d5a5bde5e8bf\n"
          ]
        },
        {
          "name": "stdout",
          "output_type": "stream",
          "text": [
            "Epoch 1/10\n",
            "100/100 [==============================] - 19s 175ms/step - loss: 0.6942 - accuracy: 0.5195 - val_loss: 0.6908 - val_accuracy: 0.5470\n",
            "Epoch 2/10\n",
            "100/100 [==============================] - 17s 175ms/step - loss: 0.6890 - accuracy: 0.5345 - val_loss: 0.6889 - val_accuracy: 0.5740\n",
            "Epoch 3/10\n",
            "100/100 [==============================] - 17s 171ms/step - loss: 0.6840 - accuracy: 0.5705 - val_loss: 0.6860 - val_accuracy: 0.5450\n",
            "Epoch 4/10\n",
            "100/100 [==============================] - 17s 173ms/step - loss: 0.6791 - accuracy: 0.5810 - val_loss: 0.6828 - val_accuracy: 0.6140\n",
            "Epoch 5/10\n",
            "100/100 [==============================] - 27s 273ms/step - loss: 0.6716 - accuracy: 0.6030 - val_loss: 0.6823 - val_accuracy: 0.5210\n",
            "Epoch 6/10\n",
            "100/100 [==============================] - 37s 364ms/step - loss: 0.6623 - accuracy: 0.6125 - val_loss: 0.6719 - val_accuracy: 0.6080\n",
            "Epoch 7/10\n",
            "100/100 [==============================] - 17s 170ms/step - loss: 0.6505 - accuracy: 0.6395 - val_loss: 0.6662 - val_accuracy: 0.6230\n",
            "Epoch 8/10\n",
            "100/100 [==============================] - 17s 170ms/step - loss: 0.6341 - accuracy: 0.6805 - val_loss: 0.6558 - val_accuracy: 0.6410\n",
            "Epoch 9/10\n",
            "100/100 [==============================] - 17s 172ms/step - loss: 0.6236 - accuracy: 0.6515 - val_loss: 0.6480 - val_accuracy: 0.6440\n",
            "Epoch 10/10\n",
            "100/100 [==============================] - 17s 169ms/step - loss: 0.6125 - accuracy: 0.6755 - val_loss: 0.6399 - val_accuracy: 0.6670\n"
          ]
        },
        {
          "name": "stderr",
          "output_type": "stream",
          "text": [
            "[I 2023-10-05 21:01:42,781] Trial 0 finished with value: 0.6549999713897705 and parameters: {'n_cov_layers': 4, 'n_layers': 3, 'weight_decay': 7.418119526344144e-10, 'num_hidden': 512, 'filters1': 32, 'kernel_size1': 3, 'filters2': 32, 'kernel_size2': 3, 'filters3': 64, 'kernel_size3': 3, 'filters4': 128, 'kernel_size4': 3, 'optimizer': 'Adam', 'adam_learning_rate': 1.7063662242594414e-05}. Best is trial 0 with value: 0.6549999713897705.\n"
          ]
        },
        {
          "name": "stdout",
          "output_type": "stream",
          "text": [
            "Epoch 1/10\n",
            "100/100 [==============================] - 62s 593ms/step - loss: 2.2378 - accuracy: 0.4890 - val_loss: 0.6933 - val_accuracy: 0.4980\n",
            "Epoch 2/10\n",
            "100/100 [==============================] - 57s 572ms/step - loss: 0.6934 - accuracy: 0.5020 - val_loss: 0.6932 - val_accuracy: 0.5020\n",
            "Epoch 3/10\n",
            "100/100 [==============================] - 57s 570ms/step - loss: 0.6935 - accuracy: 0.4835 - val_loss: 0.6932 - val_accuracy: 0.5020\n",
            "Epoch 4/10\n",
            "100/100 [==============================] - 57s 566ms/step - loss: 0.6934 - accuracy: 0.5020 - val_loss: 0.6932 - val_accuracy: 0.5020\n",
            "Epoch 5/10\n",
            "100/100 [==============================] - 57s 571ms/step - loss: 0.6934 - accuracy: 0.4990 - val_loss: 0.6932 - val_accuracy: 0.4980\n",
            "Epoch 6/10\n",
            "100/100 [==============================] - 56s 559ms/step - loss: 0.6933 - accuracy: 0.4975 - val_loss: 0.6931 - val_accuracy: 0.5020\n",
            "Epoch 7/10\n",
            "100/100 [==============================] - 56s 559ms/step - loss: 0.6933 - accuracy: 0.5020 - val_loss: 0.6931 - val_accuracy: 0.5020\n",
            "Epoch 8/10\n",
            "100/100 [==============================] - 107s 1s/step - loss: 0.6933 - accuracy: 0.5020 - val_loss: 0.6932 - val_accuracy: 0.5020\n",
            "Epoch 9/10\n",
            "100/100 [==============================] - 64s 644ms/step - loss: 0.6934 - accuracy: 0.4950 - val_loss: 0.6932 - val_accuracy: 0.4980\n",
            "Epoch 10/10\n",
            "100/100 [==============================] - 60s 602ms/step - loss: 0.6934 - accuracy: 0.5090 - val_loss: 0.6932 - val_accuracy: 0.5020\n"
          ]
        },
        {
          "name": "stderr",
          "output_type": "stream",
          "text": [
            "[I 2023-10-05 21:12:21,975] Trial 1 finished with value: 0.5019999742507935 and parameters: {'n_cov_layers': 4, 'n_layers': 3, 'weight_decay': 3.3360451799775936e-09, 'num_hidden': 512, 'filters1': 64, 'kernel_size1': 5, 'filters2': 64, 'kernel_size2': 5, 'filters3': 128, 'kernel_size3': 5, 'filters4': 128, 'kernel_size4': 5, 'optimizer': 'Adam', 'adam_learning_rate': 0.006348331710411272}. Best is trial 0 with value: 0.6549999713897705.\n"
          ]
        },
        {
          "name": "stdout",
          "output_type": "stream",
          "text": [
            "Epoch 1/10\n",
            "100/100 [==============================] - 21s 194ms/step - loss: 0.9126 - accuracy: 0.4875 - val_loss: 0.6931 - val_accuracy: 0.5040\n",
            "Epoch 2/10\n",
            "100/100 [==============================] - 19s 194ms/step - loss: 0.6937 - accuracy: 0.4890 - val_loss: 0.6929 - val_accuracy: 0.5020\n",
            "Epoch 3/10\n",
            "100/100 [==============================] - 21s 208ms/step - loss: 0.6934 - accuracy: 0.4970 - val_loss: 0.6931 - val_accuracy: 0.5020\n",
            "Epoch 4/10\n",
            "100/100 [==============================] - 20s 201ms/step - loss: 0.6932 - accuracy: 0.5000 - val_loss: 0.6931 - val_accuracy: 0.5020\n",
            "Epoch 5/10\n",
            "100/100 [==============================] - 20s 196ms/step - loss: 0.6939 - accuracy: 0.4920 - val_loss: 0.6931 - val_accuracy: 0.4980\n",
            "Epoch 6/10\n",
            "100/100 [==============================] - 19s 194ms/step - loss: 0.6934 - accuracy: 0.4800 - val_loss: 0.6931 - val_accuracy: 0.5020\n",
            "Epoch 7/10\n",
            " 71/100 [====================>.........] - ETA: 5s - loss: 0.6933 - accuracy: 0.4817"
          ]
        },
        {
          "name": "stderr",
          "output_type": "stream",
          "text": [
            "[W 2023-10-05 21:14:34,746] Trial 2 failed with parameters: {'n_cov_layers': 1, 'n_layers': 2, 'weight_decay': 8.491018235122244e-10, 'num_hidden': 128, 'filters1': 32, 'kernel_size1': 3, 'filters2': 32, 'kernel_size2': 3, 'filters3': 64, 'kernel_size3': 5, 'filters4': 128, 'kernel_size4': 3, 'optimizer': 'RMSprop', 'rmsprop_learning_rate': 0.0026014434217833675, 'rmsprop_weight_decay': 0.8961086735181216, 'rmsprop_momentum': 1.0789961986272138e-05} because of the following error: KeyboardInterrupt().\n",
            "Traceback (most recent call last):\n",
            "  File \"c:\\Users\\jason\\AppData\\Local\\Programs\\Python\\Python311\\Lib\\site-packages\\optuna\\study\\_optimize.py\", line 200, in _run_trial\n",
            "    value_or_values = func(trial)\n",
            "                      ^^^^^^^^^^^\n",
            "  File \"C:\\Users\\jason\\AppData\\Local\\Temp\\ipykernel_20800\\3068453465.py\", line 13, in objective_cnn\n",
            "    model.fit(\n",
            "  File \"C:\\Users\\jason\\AppData\\Roaming\\Python\\Python311\\site-packages\\keras\\src\\utils\\traceback_utils.py\", line 65, in error_handler\n",
            "    return fn(*args, **kwargs)\n",
            "           ^^^^^^^^^^^^^^^^^^^\n",
            "  File \"C:\\Users\\jason\\AppData\\Roaming\\Python\\Python311\\site-packages\\keras\\src\\engine\\training.py\", line 1742, in fit\n",
            "    tmp_logs = self.train_function(iterator)\n",
            "               ^^^^^^^^^^^^^^^^^^^^^^^^^^^^^\n",
            "  File \"C:\\Users\\jason\\AppData\\Roaming\\Python\\Python311\\site-packages\\tensorflow\\python\\util\\traceback_utils.py\", line 150, in error_handler\n",
            "    return fn(*args, **kwargs)\n",
            "           ^^^^^^^^^^^^^^^^^^^\n",
            "  File \"C:\\Users\\jason\\AppData\\Roaming\\Python\\Python311\\site-packages\\tensorflow\\python\\eager\\polymorphic_function\\polymorphic_function.py\", line 825, in __call__\n",
            "    result = self._call(*args, **kwds)\n",
            "             ^^^^^^^^^^^^^^^^^^^^^^^^^\n",
            "  File \"C:\\Users\\jason\\AppData\\Roaming\\Python\\Python311\\site-packages\\tensorflow\\python\\eager\\polymorphic_function\\polymorphic_function.py\", line 857, in _call\n",
            "    return self._no_variable_creation_fn(*args, **kwds)  # pylint: disable=not-callable\n",
            "           ^^^^^^^^^^^^^^^^^^^^^^^^^^^^^^^^^^^^^^^^^^^^\n",
            "  File \"C:\\Users\\jason\\AppData\\Roaming\\Python\\Python311\\site-packages\\tensorflow\\python\\eager\\polymorphic_function\\tracing_compiler.py\", line 148, in __call__\n",
            "    return concrete_function._call_flat(\n",
            "           ^^^^^^^^^^^^^^^^^^^^^^^^^^^^^\n",
            "  File \"C:\\Users\\jason\\AppData\\Roaming\\Python\\Python311\\site-packages\\tensorflow\\python\\eager\\polymorphic_function\\monomorphic_function.py\", line 1349, in _call_flat\n",
            "    return self._build_call_outputs(self._inference_function(*args))\n",
            "                                    ^^^^^^^^^^^^^^^^^^^^^^^^^^^^^^^\n",
            "  File \"C:\\Users\\jason\\AppData\\Roaming\\Python\\Python311\\site-packages\\tensorflow\\python\\eager\\polymorphic_function\\atomic_function.py\", line 196, in __call__\n",
            "    outputs = self._bound_context.call_function(\n",
            "              ^^^^^^^^^^^^^^^^^^^^^^^^^^^^^^^^^^\n",
            "  File \"C:\\Users\\jason\\AppData\\Roaming\\Python\\Python311\\site-packages\\tensorflow\\python\\eager\\context.py\", line 1457, in call_function\n",
            "    outputs = execute.execute(\n",
            "              ^^^^^^^^^^^^^^^^\n",
            "  File \"C:\\Users\\jason\\AppData\\Roaming\\Python\\Python311\\site-packages\\tensorflow\\python\\eager\\execute.py\", line 53, in quick_execute\n",
            "    tensors = pywrap_tfe.TFE_Py_Execute(ctx._handle, device_name, op_name,\n",
            "              ^^^^^^^^^^^^^^^^^^^^^^^^^^^^^^^^^^^^^^^^^^^^^^^^^^^^^^^^^^^^\n",
            "KeyboardInterrupt\n",
            "[W 2023-10-05 21:14:34,749] Trial 2 failed with value None.\n"
          ]
        },
        {
          "ename": "KeyboardInterrupt",
          "evalue": "",
          "output_type": "error",
          "traceback": [
            "\u001b[1;31m---------------------------------------------------------------------------\u001b[0m",
            "\u001b[1;31mKeyboardInterrupt\u001b[0m                         Traceback (most recent call last)",
            "\u001b[1;32mc:\\Users\\jason\\CSGY-6613-Assignment\\assignment-2\\assignment_2_rareEvents.ipynb Cell 14\u001b[0m line \u001b[0;36m2\n\u001b[0;32m      <a href='vscode-notebook-cell:/c%3A/Users/jason/CSGY-6613-Assignment/assignment-2/assignment_2_rareEvents.ipynb#X64sZmlsZQ%3D%3D?line=0'>1</a>\u001b[0m study \u001b[39m=\u001b[39m optuna\u001b[39m.\u001b[39mcreate_study(direction\u001b[39m=\u001b[39m\u001b[39m\"\u001b[39m\u001b[39mmaximize\u001b[39m\u001b[39m\"\u001b[39m)\n\u001b[1;32m----> <a href='vscode-notebook-cell:/c%3A/Users/jason/CSGY-6613-Assignment/assignment-2/assignment_2_rareEvents.ipynb#X64sZmlsZQ%3D%3D?line=1'>2</a>\u001b[0m study\u001b[39m.\u001b[39;49moptimize(objective_cnn, n_trials\u001b[39m=\u001b[39;49m\u001b[39m100\u001b[39;49m, timeout\u001b[39m=\u001b[39;49m\u001b[39m6000\u001b[39;49m)\n\u001b[0;32m      <a href='vscode-notebook-cell:/c%3A/Users/jason/CSGY-6613-Assignment/assignment-2/assignment_2_rareEvents.ipynb#X64sZmlsZQ%3D%3D?line=3'>4</a>\u001b[0m \u001b[39mprint\u001b[39m(\u001b[39m\"\u001b[39m\u001b[39mNumber of finished trials: \u001b[39m\u001b[39m{}\u001b[39;00m\u001b[39m\"\u001b[39m\u001b[39m.\u001b[39mformat(\u001b[39mlen\u001b[39m(study\u001b[39m.\u001b[39mtrials)))\n\u001b[0;32m      <a href='vscode-notebook-cell:/c%3A/Users/jason/CSGY-6613-Assignment/assignment-2/assignment_2_rareEvents.ipynb#X64sZmlsZQ%3D%3D?line=5'>6</a>\u001b[0m \u001b[39mprint\u001b[39m(\u001b[39m\"\u001b[39m\u001b[39mBest trial:\u001b[39m\u001b[39m\"\u001b[39m)\n",
            "File \u001b[1;32mc:\\Users\\jason\\AppData\\Local\\Programs\\Python\\Python311\\Lib\\site-packages\\optuna\\study\\study.py:442\u001b[0m, in \u001b[0;36mStudy.optimize\u001b[1;34m(self, func, n_trials, timeout, n_jobs, catch, callbacks, gc_after_trial, show_progress_bar)\u001b[0m\n\u001b[0;32m    339\u001b[0m \u001b[39mdef\u001b[39;00m \u001b[39moptimize\u001b[39m(\n\u001b[0;32m    340\u001b[0m     \u001b[39mself\u001b[39m,\n\u001b[0;32m    341\u001b[0m     func: ObjectiveFuncType,\n\u001b[1;32m   (...)\u001b[0m\n\u001b[0;32m    348\u001b[0m     show_progress_bar: \u001b[39mbool\u001b[39m \u001b[39m=\u001b[39m \u001b[39mFalse\u001b[39;00m,\n\u001b[0;32m    349\u001b[0m ) \u001b[39m-\u001b[39m\u001b[39m>\u001b[39m \u001b[39mNone\u001b[39;00m:\n\u001b[0;32m    350\u001b[0m \u001b[39m    \u001b[39m\u001b[39m\"\"\"Optimize an objective function.\u001b[39;00m\n\u001b[0;32m    351\u001b[0m \n\u001b[0;32m    352\u001b[0m \u001b[39m    Optimization is done by choosing a suitable set of hyperparameter values from a given\u001b[39;00m\n\u001b[1;32m   (...)\u001b[0m\n\u001b[0;32m    440\u001b[0m \u001b[39m            If nested invocation of this method occurs.\u001b[39;00m\n\u001b[0;32m    441\u001b[0m \u001b[39m    \"\"\"\u001b[39;00m\n\u001b[1;32m--> 442\u001b[0m     _optimize(\n\u001b[0;32m    443\u001b[0m         study\u001b[39m=\u001b[39;49m\u001b[39mself\u001b[39;49m,\n\u001b[0;32m    444\u001b[0m         func\u001b[39m=\u001b[39;49mfunc,\n\u001b[0;32m    445\u001b[0m         n_trials\u001b[39m=\u001b[39;49mn_trials,\n\u001b[0;32m    446\u001b[0m         timeout\u001b[39m=\u001b[39;49mtimeout,\n\u001b[0;32m    447\u001b[0m         n_jobs\u001b[39m=\u001b[39;49mn_jobs,\n\u001b[0;32m    448\u001b[0m         catch\u001b[39m=\u001b[39;49m\u001b[39mtuple\u001b[39;49m(catch) \u001b[39mif\u001b[39;49;00m \u001b[39misinstance\u001b[39;49m(catch, Iterable) \u001b[39melse\u001b[39;49;00m (catch,),\n\u001b[0;32m    449\u001b[0m         callbacks\u001b[39m=\u001b[39;49mcallbacks,\n\u001b[0;32m    450\u001b[0m         gc_after_trial\u001b[39m=\u001b[39;49mgc_after_trial,\n\u001b[0;32m    451\u001b[0m         show_progress_bar\u001b[39m=\u001b[39;49mshow_progress_bar,\n\u001b[0;32m    452\u001b[0m     )\n",
            "File \u001b[1;32mc:\\Users\\jason\\AppData\\Local\\Programs\\Python\\Python311\\Lib\\site-packages\\optuna\\study\\_optimize.py:66\u001b[0m, in \u001b[0;36m_optimize\u001b[1;34m(study, func, n_trials, timeout, n_jobs, catch, callbacks, gc_after_trial, show_progress_bar)\u001b[0m\n\u001b[0;32m     64\u001b[0m \u001b[39mtry\u001b[39;00m:\n\u001b[0;32m     65\u001b[0m     \u001b[39mif\u001b[39;00m n_jobs \u001b[39m==\u001b[39m \u001b[39m1\u001b[39m:\n\u001b[1;32m---> 66\u001b[0m         _optimize_sequential(\n\u001b[0;32m     67\u001b[0m             study,\n\u001b[0;32m     68\u001b[0m             func,\n\u001b[0;32m     69\u001b[0m             n_trials,\n\u001b[0;32m     70\u001b[0m             timeout,\n\u001b[0;32m     71\u001b[0m             catch,\n\u001b[0;32m     72\u001b[0m             callbacks,\n\u001b[0;32m     73\u001b[0m             gc_after_trial,\n\u001b[0;32m     74\u001b[0m             reseed_sampler_rng\u001b[39m=\u001b[39;49m\u001b[39mFalse\u001b[39;49;00m,\n\u001b[0;32m     75\u001b[0m             time_start\u001b[39m=\u001b[39;49m\u001b[39mNone\u001b[39;49;00m,\n\u001b[0;32m     76\u001b[0m             progress_bar\u001b[39m=\u001b[39;49mprogress_bar,\n\u001b[0;32m     77\u001b[0m         )\n\u001b[0;32m     78\u001b[0m     \u001b[39melse\u001b[39;00m:\n\u001b[0;32m     79\u001b[0m         \u001b[39mif\u001b[39;00m n_jobs \u001b[39m==\u001b[39m \u001b[39m-\u001b[39m\u001b[39m1\u001b[39m:\n",
            "File \u001b[1;32mc:\\Users\\jason\\AppData\\Local\\Programs\\Python\\Python311\\Lib\\site-packages\\optuna\\study\\_optimize.py:163\u001b[0m, in \u001b[0;36m_optimize_sequential\u001b[1;34m(study, func, n_trials, timeout, catch, callbacks, gc_after_trial, reseed_sampler_rng, time_start, progress_bar)\u001b[0m\n\u001b[0;32m    160\u001b[0m         \u001b[39mbreak\u001b[39;00m\n\u001b[0;32m    162\u001b[0m \u001b[39mtry\u001b[39;00m:\n\u001b[1;32m--> 163\u001b[0m     frozen_trial \u001b[39m=\u001b[39m _run_trial(study, func, catch)\n\u001b[0;32m    164\u001b[0m \u001b[39mfinally\u001b[39;00m:\n\u001b[0;32m    165\u001b[0m     \u001b[39m# The following line mitigates memory problems that can be occurred in some\u001b[39;00m\n\u001b[0;32m    166\u001b[0m     \u001b[39m# environments (e.g., services that use computing containers such as GitHub Actions).\u001b[39;00m\n\u001b[0;32m    167\u001b[0m     \u001b[39m# Please refer to the following PR for further details:\u001b[39;00m\n\u001b[0;32m    168\u001b[0m     \u001b[39m# https://github.com/optuna/optuna/pull/325.\u001b[39;00m\n\u001b[0;32m    169\u001b[0m     \u001b[39mif\u001b[39;00m gc_after_trial:\n",
            "File \u001b[1;32mc:\\Users\\jason\\AppData\\Local\\Programs\\Python\\Python311\\Lib\\site-packages\\optuna\\study\\_optimize.py:251\u001b[0m, in \u001b[0;36m_run_trial\u001b[1;34m(study, func, catch)\u001b[0m\n\u001b[0;32m    244\u001b[0m         \u001b[39massert\u001b[39;00m \u001b[39mFalse\u001b[39;00m, \u001b[39m\"\u001b[39m\u001b[39mShould not reach.\u001b[39m\u001b[39m\"\u001b[39m\n\u001b[0;32m    246\u001b[0m \u001b[39mif\u001b[39;00m (\n\u001b[0;32m    247\u001b[0m     frozen_trial\u001b[39m.\u001b[39mstate \u001b[39m==\u001b[39m TrialState\u001b[39m.\u001b[39mFAIL\n\u001b[0;32m    248\u001b[0m     \u001b[39mand\u001b[39;00m func_err \u001b[39mis\u001b[39;00m \u001b[39mnot\u001b[39;00m \u001b[39mNone\u001b[39;00m\n\u001b[0;32m    249\u001b[0m     \u001b[39mand\u001b[39;00m \u001b[39mnot\u001b[39;00m \u001b[39misinstance\u001b[39m(func_err, catch)\n\u001b[0;32m    250\u001b[0m ):\n\u001b[1;32m--> 251\u001b[0m     \u001b[39mraise\u001b[39;00m func_err\n\u001b[0;32m    252\u001b[0m \u001b[39mreturn\u001b[39;00m frozen_trial\n",
            "File \u001b[1;32mc:\\Users\\jason\\AppData\\Local\\Programs\\Python\\Python311\\Lib\\site-packages\\optuna\\study\\_optimize.py:200\u001b[0m, in \u001b[0;36m_run_trial\u001b[1;34m(study, func, catch)\u001b[0m\n\u001b[0;32m    198\u001b[0m \u001b[39mwith\u001b[39;00m get_heartbeat_thread(trial\u001b[39m.\u001b[39m_trial_id, study\u001b[39m.\u001b[39m_storage):\n\u001b[0;32m    199\u001b[0m     \u001b[39mtry\u001b[39;00m:\n\u001b[1;32m--> 200\u001b[0m         value_or_values \u001b[39m=\u001b[39m func(trial)\n\u001b[0;32m    201\u001b[0m     \u001b[39mexcept\u001b[39;00m exceptions\u001b[39m.\u001b[39mTrialPruned \u001b[39mas\u001b[39;00m e:\n\u001b[0;32m    202\u001b[0m         \u001b[39m# TODO(mamu): Handle multi-objective cases.\u001b[39;00m\n\u001b[0;32m    203\u001b[0m         state \u001b[39m=\u001b[39m TrialState\u001b[39m.\u001b[39mPRUNED\n",
            "\u001b[1;32mc:\\Users\\jason\\CSGY-6613-Assignment\\assignment-2\\assignment_2_rareEvents.ipynb Cell 14\u001b[0m line \u001b[0;36m1\n\u001b[0;32m      <a href='vscode-notebook-cell:/c%3A/Users/jason/CSGY-6613-Assignment/assignment-2/assignment_2_rareEvents.ipynb#X64sZmlsZQ%3D%3D?line=6'>7</a>\u001b[0m optimizer \u001b[39m=\u001b[39m create_optimizer(trial)\n\u001b[0;32m      <a href='vscode-notebook-cell:/c%3A/Users/jason/CSGY-6613-Assignment/assignment-2/assignment_2_rareEvents.ipynb#X64sZmlsZQ%3D%3D?line=7'>8</a>\u001b[0m model\u001b[39m.\u001b[39mcompile(\n\u001b[0;32m      <a href='vscode-notebook-cell:/c%3A/Users/jason/CSGY-6613-Assignment/assignment-2/assignment_2_rareEvents.ipynb#X64sZmlsZQ%3D%3D?line=8'>9</a>\u001b[0m     loss\u001b[39m=\u001b[39m\u001b[39m\"\u001b[39m\u001b[39mbinary_crossentropy\u001b[39m\u001b[39m\"\u001b[39m,\n\u001b[0;32m     <a href='vscode-notebook-cell:/c%3A/Users/jason/CSGY-6613-Assignment/assignment-2/assignment_2_rareEvents.ipynb#X64sZmlsZQ%3D%3D?line=9'>10</a>\u001b[0m     optimizer\u001b[39m=\u001b[39moptimizer,\n\u001b[0;32m     <a href='vscode-notebook-cell:/c%3A/Users/jason/CSGY-6613-Assignment/assignment-2/assignment_2_rareEvents.ipynb#X64sZmlsZQ%3D%3D?line=10'>11</a>\u001b[0m     metrics\u001b[39m=\u001b[39m[\u001b[39m\"\u001b[39m\u001b[39maccuracy\u001b[39m\u001b[39m\"\u001b[39m],\n\u001b[0;32m     <a href='vscode-notebook-cell:/c%3A/Users/jason/CSGY-6613-Assignment/assignment-2/assignment_2_rareEvents.ipynb#X64sZmlsZQ%3D%3D?line=11'>12</a>\u001b[0m )\n\u001b[1;32m---> <a href='vscode-notebook-cell:/c%3A/Users/jason/CSGY-6613-Assignment/assignment-2/assignment_2_rareEvents.ipynb#X64sZmlsZQ%3D%3D?line=12'>13</a>\u001b[0m model\u001b[39m.\u001b[39;49mfit(\n\u001b[0;32m     <a href='vscode-notebook-cell:/c%3A/Users/jason/CSGY-6613-Assignment/assignment-2/assignment_2_rareEvents.ipynb#X64sZmlsZQ%3D%3D?line=13'>14</a>\u001b[0m   train_generator,\n\u001b[0;32m     <a href='vscode-notebook-cell:/c%3A/Users/jason/CSGY-6613-Assignment/assignment-2/assignment_2_rareEvents.ipynb#X64sZmlsZQ%3D%3D?line=14'>15</a>\u001b[0m   epochs\u001b[39m=\u001b[39;49m\u001b[39m10\u001b[39;49m,\n\u001b[0;32m     <a href='vscode-notebook-cell:/c%3A/Users/jason/CSGY-6613-Assignment/assignment-2/assignment_2_rareEvents.ipynb#X64sZmlsZQ%3D%3D?line=15'>16</a>\u001b[0m   validation_data\u001b[39m=\u001b[39;49mvalidation_generator,\n\u001b[0;32m     <a href='vscode-notebook-cell:/c%3A/Users/jason/CSGY-6613-Assignment/assignment-2/assignment_2_rareEvents.ipynb#X64sZmlsZQ%3D%3D?line=16'>17</a>\u001b[0m   batch_size\u001b[39m=\u001b[39;49m\u001b[39m128\u001b[39;49m\n\u001b[0;32m     <a href='vscode-notebook-cell:/c%3A/Users/jason/CSGY-6613-Assignment/assignment-2/assignment_2_rareEvents.ipynb#X64sZmlsZQ%3D%3D?line=17'>18</a>\u001b[0m )\n\u001b[0;32m     <a href='vscode-notebook-cell:/c%3A/Users/jason/CSGY-6613-Assignment/assignment-2/assignment_2_rareEvents.ipynb#X64sZmlsZQ%3D%3D?line=18'>19</a>\u001b[0m score \u001b[39m=\u001b[39m model\u001b[39m.\u001b[39mevaluate(test_generator, verbose\u001b[39m=\u001b[39m\u001b[39m0\u001b[39m)\n\u001b[0;32m     <a href='vscode-notebook-cell:/c%3A/Users/jason/CSGY-6613-Assignment/assignment-2/assignment_2_rareEvents.ipynb#X64sZmlsZQ%3D%3D?line=19'>20</a>\u001b[0m \u001b[39mreturn\u001b[39;00m score[\u001b[39m1\u001b[39m]\n",
            "File \u001b[1;32m~\\AppData\\Roaming\\Python\\Python311\\site-packages\\keras\\src\\utils\\traceback_utils.py:65\u001b[0m, in \u001b[0;36mfilter_traceback.<locals>.error_handler\u001b[1;34m(*args, **kwargs)\u001b[0m\n\u001b[0;32m     63\u001b[0m filtered_tb \u001b[39m=\u001b[39m \u001b[39mNone\u001b[39;00m\n\u001b[0;32m     64\u001b[0m \u001b[39mtry\u001b[39;00m:\n\u001b[1;32m---> 65\u001b[0m     \u001b[39mreturn\u001b[39;00m fn(\u001b[39m*\u001b[39;49margs, \u001b[39m*\u001b[39;49m\u001b[39m*\u001b[39;49mkwargs)\n\u001b[0;32m     66\u001b[0m \u001b[39mexcept\u001b[39;00m \u001b[39mException\u001b[39;00m \u001b[39mas\u001b[39;00m e:\n\u001b[0;32m     67\u001b[0m     filtered_tb \u001b[39m=\u001b[39m _process_traceback_frames(e\u001b[39m.\u001b[39m__traceback__)\n",
            "File \u001b[1;32m~\\AppData\\Roaming\\Python\\Python311\\site-packages\\keras\\src\\engine\\training.py:1742\u001b[0m, in \u001b[0;36mModel.fit\u001b[1;34m(self, x, y, batch_size, epochs, verbose, callbacks, validation_split, validation_data, shuffle, class_weight, sample_weight, initial_epoch, steps_per_epoch, validation_steps, validation_batch_size, validation_freq, max_queue_size, workers, use_multiprocessing)\u001b[0m\n\u001b[0;32m   1734\u001b[0m \u001b[39mwith\u001b[39;00m tf\u001b[39m.\u001b[39mprofiler\u001b[39m.\u001b[39mexperimental\u001b[39m.\u001b[39mTrace(\n\u001b[0;32m   1735\u001b[0m     \u001b[39m\"\u001b[39m\u001b[39mtrain\u001b[39m\u001b[39m\"\u001b[39m,\n\u001b[0;32m   1736\u001b[0m     epoch_num\u001b[39m=\u001b[39mepoch,\n\u001b[1;32m   (...)\u001b[0m\n\u001b[0;32m   1739\u001b[0m     _r\u001b[39m=\u001b[39m\u001b[39m1\u001b[39m,\n\u001b[0;32m   1740\u001b[0m ):\n\u001b[0;32m   1741\u001b[0m     callbacks\u001b[39m.\u001b[39mon_train_batch_begin(step)\n\u001b[1;32m-> 1742\u001b[0m     tmp_logs \u001b[39m=\u001b[39m \u001b[39mself\u001b[39;49m\u001b[39m.\u001b[39;49mtrain_function(iterator)\n\u001b[0;32m   1743\u001b[0m     \u001b[39mif\u001b[39;00m data_handler\u001b[39m.\u001b[39mshould_sync:\n\u001b[0;32m   1744\u001b[0m         context\u001b[39m.\u001b[39masync_wait()\n",
            "File \u001b[1;32m~\\AppData\\Roaming\\Python\\Python311\\site-packages\\tensorflow\\python\\util\\traceback_utils.py:150\u001b[0m, in \u001b[0;36mfilter_traceback.<locals>.error_handler\u001b[1;34m(*args, **kwargs)\u001b[0m\n\u001b[0;32m    148\u001b[0m filtered_tb \u001b[39m=\u001b[39m \u001b[39mNone\u001b[39;00m\n\u001b[0;32m    149\u001b[0m \u001b[39mtry\u001b[39;00m:\n\u001b[1;32m--> 150\u001b[0m   \u001b[39mreturn\u001b[39;00m fn(\u001b[39m*\u001b[39;49margs, \u001b[39m*\u001b[39;49m\u001b[39m*\u001b[39;49mkwargs)\n\u001b[0;32m    151\u001b[0m \u001b[39mexcept\u001b[39;00m \u001b[39mException\u001b[39;00m \u001b[39mas\u001b[39;00m e:\n\u001b[0;32m    152\u001b[0m   filtered_tb \u001b[39m=\u001b[39m _process_traceback_frames(e\u001b[39m.\u001b[39m__traceback__)\n",
            "File \u001b[1;32m~\\AppData\\Roaming\\Python\\Python311\\site-packages\\tensorflow\\python\\eager\\polymorphic_function\\polymorphic_function.py:825\u001b[0m, in \u001b[0;36mFunction.__call__\u001b[1;34m(self, *args, **kwds)\u001b[0m\n\u001b[0;32m    822\u001b[0m compiler \u001b[39m=\u001b[39m \u001b[39m\"\u001b[39m\u001b[39mxla\u001b[39m\u001b[39m\"\u001b[39m \u001b[39mif\u001b[39;00m \u001b[39mself\u001b[39m\u001b[39m.\u001b[39m_jit_compile \u001b[39melse\u001b[39;00m \u001b[39m\"\u001b[39m\u001b[39mnonXla\u001b[39m\u001b[39m\"\u001b[39m\n\u001b[0;32m    824\u001b[0m \u001b[39mwith\u001b[39;00m OptionalXlaContext(\u001b[39mself\u001b[39m\u001b[39m.\u001b[39m_jit_compile):\n\u001b[1;32m--> 825\u001b[0m   result \u001b[39m=\u001b[39m \u001b[39mself\u001b[39;49m\u001b[39m.\u001b[39;49m_call(\u001b[39m*\u001b[39;49margs, \u001b[39m*\u001b[39;49m\u001b[39m*\u001b[39;49mkwds)\n\u001b[0;32m    827\u001b[0m new_tracing_count \u001b[39m=\u001b[39m \u001b[39mself\u001b[39m\u001b[39m.\u001b[39mexperimental_get_tracing_count()\n\u001b[0;32m    828\u001b[0m without_tracing \u001b[39m=\u001b[39m (tracing_count \u001b[39m==\u001b[39m new_tracing_count)\n",
            "File \u001b[1;32m~\\AppData\\Roaming\\Python\\Python311\\site-packages\\tensorflow\\python\\eager\\polymorphic_function\\polymorphic_function.py:857\u001b[0m, in \u001b[0;36mFunction._call\u001b[1;34m(self, *args, **kwds)\u001b[0m\n\u001b[0;32m    854\u001b[0m   \u001b[39mself\u001b[39m\u001b[39m.\u001b[39m_lock\u001b[39m.\u001b[39mrelease()\n\u001b[0;32m    855\u001b[0m   \u001b[39m# In this case we have created variables on the first call, so we run the\u001b[39;00m\n\u001b[0;32m    856\u001b[0m   \u001b[39m# defunned version which is guaranteed to never create variables.\u001b[39;00m\n\u001b[1;32m--> 857\u001b[0m   \u001b[39mreturn\u001b[39;00m \u001b[39mself\u001b[39;49m\u001b[39m.\u001b[39;49m_no_variable_creation_fn(\u001b[39m*\u001b[39;49margs, \u001b[39m*\u001b[39;49m\u001b[39m*\u001b[39;49mkwds)  \u001b[39m# pylint: disable=not-callable\u001b[39;00m\n\u001b[0;32m    858\u001b[0m \u001b[39melif\u001b[39;00m \u001b[39mself\u001b[39m\u001b[39m.\u001b[39m_variable_creation_fn \u001b[39mis\u001b[39;00m \u001b[39mnot\u001b[39;00m \u001b[39mNone\u001b[39;00m:\n\u001b[0;32m    859\u001b[0m   \u001b[39m# Release the lock early so that multiple threads can perform the call\u001b[39;00m\n\u001b[0;32m    860\u001b[0m   \u001b[39m# in parallel.\u001b[39;00m\n\u001b[0;32m    861\u001b[0m   \u001b[39mself\u001b[39m\u001b[39m.\u001b[39m_lock\u001b[39m.\u001b[39mrelease()\n",
            "File \u001b[1;32m~\\AppData\\Roaming\\Python\\Python311\\site-packages\\tensorflow\\python\\eager\\polymorphic_function\\tracing_compiler.py:148\u001b[0m, in \u001b[0;36mTracingCompiler.__call__\u001b[1;34m(self, *args, **kwargs)\u001b[0m\n\u001b[0;32m    145\u001b[0m \u001b[39mwith\u001b[39;00m \u001b[39mself\u001b[39m\u001b[39m.\u001b[39m_lock:\n\u001b[0;32m    146\u001b[0m   (concrete_function,\n\u001b[0;32m    147\u001b[0m    filtered_flat_args) \u001b[39m=\u001b[39m \u001b[39mself\u001b[39m\u001b[39m.\u001b[39m_maybe_define_function(args, kwargs)\n\u001b[1;32m--> 148\u001b[0m \u001b[39mreturn\u001b[39;00m concrete_function\u001b[39m.\u001b[39;49m_call_flat(\n\u001b[0;32m    149\u001b[0m     filtered_flat_args, captured_inputs\u001b[39m=\u001b[39;49mconcrete_function\u001b[39m.\u001b[39;49mcaptured_inputs)\n",
            "File \u001b[1;32m~\\AppData\\Roaming\\Python\\Python311\\site-packages\\tensorflow\\python\\eager\\polymorphic_function\\monomorphic_function.py:1349\u001b[0m, in \u001b[0;36mConcreteFunction._call_flat\u001b[1;34m(self, args, captured_inputs)\u001b[0m\n\u001b[0;32m   1345\u001b[0m possible_gradient_type \u001b[39m=\u001b[39m gradients_util\u001b[39m.\u001b[39mPossibleTapeGradientTypes(args)\n\u001b[0;32m   1346\u001b[0m \u001b[39mif\u001b[39;00m (possible_gradient_type \u001b[39m==\u001b[39m gradients_util\u001b[39m.\u001b[39mPOSSIBLE_GRADIENT_TYPES_NONE\n\u001b[0;32m   1347\u001b[0m     \u001b[39mand\u001b[39;00m executing_eagerly):\n\u001b[0;32m   1348\u001b[0m   \u001b[39m# No tape is watching; skip to running the function.\u001b[39;00m\n\u001b[1;32m-> 1349\u001b[0m   \u001b[39mreturn\u001b[39;00m \u001b[39mself\u001b[39m\u001b[39m.\u001b[39m_build_call_outputs(\u001b[39mself\u001b[39;49m\u001b[39m.\u001b[39;49m_inference_function(\u001b[39m*\u001b[39;49margs))\n\u001b[0;32m   1350\u001b[0m forward_backward \u001b[39m=\u001b[39m \u001b[39mself\u001b[39m\u001b[39m.\u001b[39m_select_forward_and_backward_functions(\n\u001b[0;32m   1351\u001b[0m     args,\n\u001b[0;32m   1352\u001b[0m     possible_gradient_type,\n\u001b[0;32m   1353\u001b[0m     executing_eagerly)\n\u001b[0;32m   1354\u001b[0m forward_function, args_with_tangents \u001b[39m=\u001b[39m forward_backward\u001b[39m.\u001b[39mforward()\n",
            "File \u001b[1;32m~\\AppData\\Roaming\\Python\\Python311\\site-packages\\tensorflow\\python\\eager\\polymorphic_function\\atomic_function.py:196\u001b[0m, in \u001b[0;36mAtomicFunction.__call__\u001b[1;34m(self, *args)\u001b[0m\n\u001b[0;32m    194\u001b[0m \u001b[39mwith\u001b[39;00m record\u001b[39m.\u001b[39mstop_recording():\n\u001b[0;32m    195\u001b[0m   \u001b[39mif\u001b[39;00m \u001b[39mself\u001b[39m\u001b[39m.\u001b[39m_bound_context\u001b[39m.\u001b[39mexecuting_eagerly():\n\u001b[1;32m--> 196\u001b[0m     outputs \u001b[39m=\u001b[39m \u001b[39mself\u001b[39;49m\u001b[39m.\u001b[39;49m_bound_context\u001b[39m.\u001b[39;49mcall_function(\n\u001b[0;32m    197\u001b[0m         \u001b[39mself\u001b[39;49m\u001b[39m.\u001b[39;49mname,\n\u001b[0;32m    198\u001b[0m         \u001b[39mlist\u001b[39;49m(args),\n\u001b[0;32m    199\u001b[0m         \u001b[39mlen\u001b[39;49m(\u001b[39mself\u001b[39;49m\u001b[39m.\u001b[39;49mfunction_type\u001b[39m.\u001b[39;49mflat_outputs),\n\u001b[0;32m    200\u001b[0m     )\n\u001b[0;32m    201\u001b[0m   \u001b[39melse\u001b[39;00m:\n\u001b[0;32m    202\u001b[0m     outputs \u001b[39m=\u001b[39m make_call_op_in_graph(\u001b[39mself\u001b[39m, \u001b[39mlist\u001b[39m(args))\n",
            "File \u001b[1;32m~\\AppData\\Roaming\\Python\\Python311\\site-packages\\tensorflow\\python\\eager\\context.py:1457\u001b[0m, in \u001b[0;36mContext.call_function\u001b[1;34m(self, name, tensor_inputs, num_outputs)\u001b[0m\n\u001b[0;32m   1455\u001b[0m cancellation_context \u001b[39m=\u001b[39m cancellation\u001b[39m.\u001b[39mcontext()\n\u001b[0;32m   1456\u001b[0m \u001b[39mif\u001b[39;00m cancellation_context \u001b[39mis\u001b[39;00m \u001b[39mNone\u001b[39;00m:\n\u001b[1;32m-> 1457\u001b[0m   outputs \u001b[39m=\u001b[39m execute\u001b[39m.\u001b[39;49mexecute(\n\u001b[0;32m   1458\u001b[0m       name\u001b[39m.\u001b[39;49mdecode(\u001b[39m\"\u001b[39;49m\u001b[39mutf-8\u001b[39;49m\u001b[39m\"\u001b[39;49m),\n\u001b[0;32m   1459\u001b[0m       num_outputs\u001b[39m=\u001b[39;49mnum_outputs,\n\u001b[0;32m   1460\u001b[0m       inputs\u001b[39m=\u001b[39;49mtensor_inputs,\n\u001b[0;32m   1461\u001b[0m       attrs\u001b[39m=\u001b[39;49mattrs,\n\u001b[0;32m   1462\u001b[0m       ctx\u001b[39m=\u001b[39;49m\u001b[39mself\u001b[39;49m,\n\u001b[0;32m   1463\u001b[0m   )\n\u001b[0;32m   1464\u001b[0m \u001b[39melse\u001b[39;00m:\n\u001b[0;32m   1465\u001b[0m   outputs \u001b[39m=\u001b[39m execute\u001b[39m.\u001b[39mexecute_with_cancellation(\n\u001b[0;32m   1466\u001b[0m       name\u001b[39m.\u001b[39mdecode(\u001b[39m\"\u001b[39m\u001b[39mutf-8\u001b[39m\u001b[39m\"\u001b[39m),\n\u001b[0;32m   1467\u001b[0m       num_outputs\u001b[39m=\u001b[39mnum_outputs,\n\u001b[1;32m   (...)\u001b[0m\n\u001b[0;32m   1471\u001b[0m       cancellation_manager\u001b[39m=\u001b[39mcancellation_context,\n\u001b[0;32m   1472\u001b[0m   )\n",
            "File \u001b[1;32m~\\AppData\\Roaming\\Python\\Python311\\site-packages\\tensorflow\\python\\eager\\execute.py:53\u001b[0m, in \u001b[0;36mquick_execute\u001b[1;34m(op_name, num_outputs, inputs, attrs, ctx, name)\u001b[0m\n\u001b[0;32m     51\u001b[0m \u001b[39mtry\u001b[39;00m:\n\u001b[0;32m     52\u001b[0m   ctx\u001b[39m.\u001b[39mensure_initialized()\n\u001b[1;32m---> 53\u001b[0m   tensors \u001b[39m=\u001b[39m pywrap_tfe\u001b[39m.\u001b[39;49mTFE_Py_Execute(ctx\u001b[39m.\u001b[39;49m_handle, device_name, op_name,\n\u001b[0;32m     54\u001b[0m                                       inputs, attrs, num_outputs)\n\u001b[0;32m     55\u001b[0m \u001b[39mexcept\u001b[39;00m core\u001b[39m.\u001b[39m_NotOkStatusException \u001b[39mas\u001b[39;00m e:\n\u001b[0;32m     56\u001b[0m   \u001b[39mif\u001b[39;00m name \u001b[39mis\u001b[39;00m \u001b[39mnot\u001b[39;00m \u001b[39mNone\u001b[39;00m:\n",
            "\u001b[1;31mKeyboardInterrupt\u001b[0m: "
          ]
        }
      ],
      "source": [
        "study = optuna.create_study(direction=\"maximize\")\n",
        "study.optimize(objective_cnn, n_trials=100, timeout=6000)\n",
        "\n",
        "print(\"Number of finished trials: {}\".format(len(study.trials)))\n",
        "\n",
        "print(\"Best trial:\")\n",
        "trial = study.best_trial\n",
        "\n",
        "print(\"  Value: {}\".format(trial.value))\n",
        "\n",
        "print(\"  Params: \")\n",
        "for key, value in trial.params.items():\n",
        "    print(\"    {}: {}\".format(key, value))"
      ]
    },
    {
      "cell_type": "markdown",
      "metadata": {},
      "source": [
        "Best trial:\n",
        "\n",
        "  Value: 0.7910000085830688\n",
        "  \n",
        "  Params: \n",
        "\n",
        "    num_hidden: 128\n",
        "    filters1: 64\n",
        "    kernel_size1: 3\n",
        "    filters2: 64\n",
        "    kernel_size2: 3\n",
        "    filters3: 128\n",
        "    kernel_size3: 3\n",
        "    filters4: 64\n",
        "    kernel_size4: 5\n",
        "    optimizer: Adam\n",
        "    adam_learning_rate: 0.00019015061410741497"
      ]
    },
    {
      "cell_type": "code",
      "execution_count": 14,
      "metadata": {},
      "outputs": [],
      "source": [
        "model = models.Sequential()\n",
        "model.add(layers.Conv2D(64, (3, 3), activation='relu',\n",
        "                        input_shape=(150, 150, 3)))\n",
        "model.add(layers.MaxPooling2D((2, 2)))\n",
        "model.add(layers.Conv2D(64, (3, 3), activation='relu'))\n",
        "model.add(layers.MaxPooling2D((2, 2)))\n",
        "model.add(layers.Conv2D(128, (3, 3), activation='relu'))\n",
        "model.add(layers.MaxPooling2D((2, 2)))\n",
        "model.add(layers.Conv2D(64, (3, 3), activation='relu'))\n",
        "model.add(layers.MaxPooling2D((2, 2)))\n",
        "model.add(layers.Flatten())\n",
        "model.add(layers.Dropout(0.5))\n",
        "model.add(layers.Dense(512, activation='relu'))\n",
        "model.add(layers.Dense(2, activation='sigmoid'))"
      ]
    },
    {
      "cell_type": "code",
      "execution_count": 15,
      "metadata": {},
      "outputs": [],
      "source": [
        "from keras import optimizers\n",
        "model.compile(loss='binary_crossentropy',\n",
        "              optimizer=optimizers.Adam(learning_rate=0.00019),\n",
        "              metrics=['acc'])"
      ]
    },
    {
      "cell_type": "code",
      "execution_count": 23,
      "metadata": {},
      "outputs": [
        {
          "name": "stdout",
          "output_type": "stream",
          "text": [
            "Epoch 1/100\n",
            "100/100 [==============================] - 60s 594ms/step - loss: 0.6916 - acc: 0.5315 - val_loss: 0.6934 - val_acc: 0.5020\n",
            "Epoch 2/100\n",
            "100/100 [==============================] - 53s 532ms/step - loss: 0.6856 - acc: 0.5430 - val_loss: 0.6740 - val_acc: 0.6260\n",
            "Epoch 3/100\n",
            "100/100 [==============================] - 101s 1s/step - loss: 0.6746 - acc: 0.5805 - val_loss: 0.6866 - val_acc: 0.5500\n",
            "Epoch 4/100\n",
            "100/100 [==============================] - 53s 520ms/step - loss: 0.6482 - acc: 0.6100 - val_loss: 0.6325 - val_acc: 0.6430\n",
            "Epoch 5/100\n",
            "100/100 [==============================] - 30s 302ms/step - loss: 0.6437 - acc: 0.6260 - val_loss: 0.6483 - val_acc: 0.6200\n",
            "Epoch 6/100\n",
            "100/100 [==============================] - 30s 296ms/step - loss: 0.6427 - acc: 0.6175 - val_loss: 0.6370 - val_acc: 0.6480\n",
            "Epoch 7/100\n",
            "100/100 [==============================] - 30s 301ms/step - loss: 0.6279 - acc: 0.6345 - val_loss: 0.6068 - val_acc: 0.6610\n",
            "Epoch 8/100\n",
            "100/100 [==============================] - 30s 301ms/step - loss: 0.6117 - acc: 0.6625 - val_loss: 0.5943 - val_acc: 0.6850\n",
            "Epoch 9/100\n",
            "100/100 [==============================] - 30s 302ms/step - loss: 0.6147 - acc: 0.6620 - val_loss: 0.6100 - val_acc: 0.6630\n",
            "Epoch 10/100\n",
            "100/100 [==============================] - 30s 302ms/step - loss: 0.6069 - acc: 0.6605 - val_loss: 0.6245 - val_acc: 0.6650\n",
            "Epoch 11/100\n",
            "100/100 [==============================] - 30s 300ms/step - loss: 0.5956 - acc: 0.6680 - val_loss: 0.6054 - val_acc: 0.6990\n",
            "Epoch 12/100\n",
            "100/100 [==============================] - 30s 301ms/step - loss: 0.5862 - acc: 0.6800 - val_loss: 0.5869 - val_acc: 0.6960\n",
            "Epoch 13/100\n",
            "100/100 [==============================] - 30s 299ms/step - loss: 0.5702 - acc: 0.6945 - val_loss: 0.6276 - val_acc: 0.6670\n",
            "Epoch 14/100\n",
            "100/100 [==============================] - 30s 301ms/step - loss: 0.5777 - acc: 0.6815 - val_loss: 0.6070 - val_acc: 0.6640\n",
            "Epoch 15/100\n",
            "100/100 [==============================] - 30s 302ms/step - loss: 0.5636 - acc: 0.7000 - val_loss: 0.5496 - val_acc: 0.6980\n",
            "Epoch 16/100\n",
            "100/100 [==============================] - 30s 302ms/step - loss: 0.5605 - acc: 0.7125 - val_loss: 0.5331 - val_acc: 0.7320\n",
            "Epoch 17/100\n",
            "100/100 [==============================] - 30s 301ms/step - loss: 0.5646 - acc: 0.6965 - val_loss: 0.5336 - val_acc: 0.7280\n",
            "Epoch 18/100\n",
            "100/100 [==============================] - 30s 301ms/step - loss: 0.5540 - acc: 0.7235 - val_loss: 0.5498 - val_acc: 0.7160\n",
            "Epoch 19/100\n",
            "100/100 [==============================] - 30s 301ms/step - loss: 0.5390 - acc: 0.7245 - val_loss: 0.5252 - val_acc: 0.7310\n",
            "Epoch 20/100\n",
            "100/100 [==============================] - 30s 301ms/step - loss: 0.5261 - acc: 0.7395 - val_loss: 0.5315 - val_acc: 0.7380\n",
            "Epoch 21/100\n",
            "100/100 [==============================] - 30s 301ms/step - loss: 0.5451 - acc: 0.7135 - val_loss: 0.5269 - val_acc: 0.7450\n",
            "Epoch 22/100\n",
            "100/100 [==============================] - 30s 299ms/step - loss: 0.5352 - acc: 0.7290 - val_loss: 0.5170 - val_acc: 0.7430\n",
            "Epoch 23/100\n",
            "100/100 [==============================] - 29s 292ms/step - loss: 0.5326 - acc: 0.7360 - val_loss: 0.5172 - val_acc: 0.7490\n",
            "Epoch 24/100\n",
            "100/100 [==============================] - 29s 293ms/step - loss: 0.5178 - acc: 0.7495 - val_loss: 0.5912 - val_acc: 0.7140\n",
            "Epoch 25/100\n",
            "100/100 [==============================] - 30s 298ms/step - loss: 0.5079 - acc: 0.7505 - val_loss: 0.5209 - val_acc: 0.7540\n",
            "Epoch 26/100\n",
            "100/100 [==============================] - 30s 299ms/step - loss: 0.5145 - acc: 0.7370 - val_loss: 0.5031 - val_acc: 0.7580\n",
            "Epoch 27/100\n",
            "100/100 [==============================] - 30s 301ms/step - loss: 0.5194 - acc: 0.7470 - val_loss: 0.5100 - val_acc: 0.7640\n",
            "Epoch 28/100\n",
            "100/100 [==============================] - 30s 301ms/step - loss: 0.4941 - acc: 0.7610 - val_loss: 0.4694 - val_acc: 0.7790\n",
            "Epoch 29/100\n",
            "100/100 [==============================] - 30s 300ms/step - loss: 0.4810 - acc: 0.7625 - val_loss: 0.4811 - val_acc: 0.7640\n",
            "Epoch 30/100\n",
            "100/100 [==============================] - 30s 299ms/step - loss: 0.4878 - acc: 0.7625 - val_loss: 0.5545 - val_acc: 0.7360\n",
            "Epoch 31/100\n",
            "100/100 [==============================] - 30s 300ms/step - loss: 0.4959 - acc: 0.7615 - val_loss: 0.5436 - val_acc: 0.7350\n",
            "Epoch 32/100\n",
            "100/100 [==============================] - 30s 300ms/step - loss: 0.4907 - acc: 0.7570 - val_loss: 0.4688 - val_acc: 0.7720\n",
            "Epoch 33/100\n",
            "100/100 [==============================] - 30s 300ms/step - loss: 0.4780 - acc: 0.7615 - val_loss: 0.5073 - val_acc: 0.7540\n",
            "Epoch 34/100\n",
            "100/100 [==============================] - 30s 302ms/step - loss: 0.4660 - acc: 0.7845 - val_loss: 0.4943 - val_acc: 0.7810\n",
            "Epoch 35/100\n",
            "100/100 [==============================] - 30s 301ms/step - loss: 0.4560 - acc: 0.7775 - val_loss: 0.4773 - val_acc: 0.7830\n",
            "Epoch 36/100\n",
            "100/100 [==============================] - 30s 300ms/step - loss: 0.4619 - acc: 0.7790 - val_loss: 0.4768 - val_acc: 0.7560\n",
            "Epoch 37/100\n",
            "100/100 [==============================] - 30s 300ms/step - loss: 0.4527 - acc: 0.7860 - val_loss: 0.4753 - val_acc: 0.7980\n",
            "Epoch 38/100\n",
            "100/100 [==============================] - 30s 299ms/step - loss: 0.4545 - acc: 0.7960 - val_loss: 0.5101 - val_acc: 0.7680\n",
            "Epoch 39/100\n",
            "100/100 [==============================] - 30s 297ms/step - loss: 0.4470 - acc: 0.7905 - val_loss: 0.5328 - val_acc: 0.7610\n",
            "Epoch 40/100\n",
            "100/100 [==============================] - 30s 302ms/step - loss: 0.4583 - acc: 0.7815 - val_loss: 0.5186 - val_acc: 0.7680\n",
            "Epoch 41/100\n",
            "100/100 [==============================] - 30s 300ms/step - loss: 0.4494 - acc: 0.7880 - val_loss: 0.4502 - val_acc: 0.7850\n",
            "Epoch 42/100\n",
            "100/100 [==============================] - 30s 300ms/step - loss: 0.4438 - acc: 0.7765 - val_loss: 0.4573 - val_acc: 0.7920\n",
            "Epoch 43/100\n",
            "100/100 [==============================] - 30s 295ms/step - loss: 0.4361 - acc: 0.8015 - val_loss: 0.4313 - val_acc: 0.8080\n",
            "Epoch 44/100\n",
            "100/100 [==============================] - 30s 298ms/step - loss: 0.4227 - acc: 0.8040 - val_loss: 0.4931 - val_acc: 0.7590\n",
            "Epoch 45/100\n",
            "100/100 [==============================] - 30s 300ms/step - loss: 0.4348 - acc: 0.7985 - val_loss: 0.4256 - val_acc: 0.8000\n",
            "Epoch 46/100\n",
            "100/100 [==============================] - 30s 299ms/step - loss: 0.4194 - acc: 0.8065 - val_loss: 0.3938 - val_acc: 0.8230\n",
            "Epoch 47/100\n",
            "100/100 [==============================] - 30s 299ms/step - loss: 0.4174 - acc: 0.8025 - val_loss: 0.4760 - val_acc: 0.7910\n",
            "Epoch 48/100\n",
            "100/100 [==============================] - 31s 314ms/step - loss: 0.4139 - acc: 0.8160 - val_loss: 0.4158 - val_acc: 0.8030\n",
            "Epoch 49/100\n",
            "100/100 [==============================] - 31s 305ms/step - loss: 0.4243 - acc: 0.8015 - val_loss: 0.4780 - val_acc: 0.7970\n",
            "Epoch 50/100\n",
            "100/100 [==============================] - 31s 306ms/step - loss: 0.4022 - acc: 0.8090 - val_loss: 0.4341 - val_acc: 0.7950\n",
            "Epoch 51/100\n",
            "100/100 [==============================] - 31s 309ms/step - loss: 0.4153 - acc: 0.8090 - val_loss: 0.4256 - val_acc: 0.8160\n",
            "Epoch 52/100\n",
            "100/100 [==============================] - 30s 297ms/step - loss: 0.4116 - acc: 0.8085 - val_loss: 0.4106 - val_acc: 0.8110\n",
            "Epoch 53/100\n",
            "100/100 [==============================] - 30s 299ms/step - loss: 0.4113 - acc: 0.8150 - val_loss: 0.4892 - val_acc: 0.7720\n",
            "Epoch 54/100\n",
            "100/100 [==============================] - 30s 300ms/step - loss: 0.4063 - acc: 0.8140 - val_loss: 0.4404 - val_acc: 0.8140\n",
            "Epoch 55/100\n",
            "100/100 [==============================] - 30s 295ms/step - loss: 0.3879 - acc: 0.8215 - val_loss: 0.4780 - val_acc: 0.7810\n",
            "Epoch 56/100\n",
            "100/100 [==============================] - 29s 292ms/step - loss: 0.4037 - acc: 0.8115 - val_loss: 0.4198 - val_acc: 0.8310\n",
            "Epoch 57/100\n",
            "100/100 [==============================] - 30s 300ms/step - loss: 0.3987 - acc: 0.8160 - val_loss: 0.3901 - val_acc: 0.8310\n",
            "Epoch 58/100\n",
            "100/100 [==============================] - 29s 292ms/step - loss: 0.3889 - acc: 0.8265 - val_loss: 0.4348 - val_acc: 0.8050\n",
            "Epoch 59/100\n",
            "100/100 [==============================] - 29s 294ms/step - loss: 0.3992 - acc: 0.8240 - val_loss: 0.3911 - val_acc: 0.8270\n",
            "Epoch 60/100\n",
            "100/100 [==============================] - 29s 294ms/step - loss: 0.3915 - acc: 0.8195 - val_loss: 0.3803 - val_acc: 0.8290\n",
            "Epoch 61/100\n",
            "100/100 [==============================] - 29s 290ms/step - loss: 0.3870 - acc: 0.8160 - val_loss: 0.3706 - val_acc: 0.8410\n",
            "Epoch 62/100\n",
            "100/100 [==============================] - 29s 293ms/step - loss: 0.3774 - acc: 0.8200 - val_loss: 0.4169 - val_acc: 0.8180\n",
            "Epoch 63/100\n",
            "100/100 [==============================] - 29s 290ms/step - loss: 0.3730 - acc: 0.8350 - val_loss: 0.4279 - val_acc: 0.8200\n",
            "Epoch 64/100\n",
            "100/100 [==============================] - 30s 300ms/step - loss: 0.3505 - acc: 0.8505 - val_loss: 0.3683 - val_acc: 0.8460\n",
            "Epoch 65/100\n",
            "100/100 [==============================] - 30s 303ms/step - loss: 0.3731 - acc: 0.8300 - val_loss: 0.4558 - val_acc: 0.8110\n",
            "Epoch 66/100\n",
            "100/100 [==============================] - 31s 313ms/step - loss: 0.3854 - acc: 0.8255 - val_loss: 0.4320 - val_acc: 0.8180\n",
            "Epoch 67/100\n",
            "100/100 [==============================] - 31s 306ms/step - loss: 0.3587 - acc: 0.8490 - val_loss: 0.3818 - val_acc: 0.8310\n",
            "Epoch 68/100\n",
            "100/100 [==============================] - 30s 303ms/step - loss: 0.3545 - acc: 0.8425 - val_loss: 0.3663 - val_acc: 0.8420\n",
            "Epoch 69/100\n",
            "100/100 [==============================] - 31s 307ms/step - loss: 0.3487 - acc: 0.8430 - val_loss: 0.3827 - val_acc: 0.8430\n",
            "Epoch 70/100\n",
            "100/100 [==============================] - 30s 298ms/step - loss: 0.3477 - acc: 0.8490 - val_loss: 0.4352 - val_acc: 0.8240\n",
            "Epoch 71/100\n",
            "100/100 [==============================] - 31s 314ms/step - loss: 0.3537 - acc: 0.8310 - val_loss: 0.3628 - val_acc: 0.8460\n",
            "Epoch 72/100\n",
            "100/100 [==============================] - 31s 308ms/step - loss: 0.3367 - acc: 0.8565 - val_loss: 0.3891 - val_acc: 0.8460\n",
            "Epoch 73/100\n",
            "100/100 [==============================] - 31s 306ms/step - loss: 0.3337 - acc: 0.8480 - val_loss: 0.3637 - val_acc: 0.8430\n",
            "Epoch 74/100\n",
            "100/100 [==============================] - 56s 560ms/step - loss: 0.3338 - acc: 0.8485 - val_loss: 0.4110 - val_acc: 0.8260\n",
            "Epoch 75/100\n",
            "100/100 [==============================] - 108s 1s/step - loss: 0.3599 - acc: 0.8435 - val_loss: 0.3971 - val_acc: 0.8210\n",
            "Epoch 76/100\n",
            "100/100 [==============================] - 77s 762ms/step - loss: 0.3435 - acc: 0.8420 - val_loss: 0.3440 - val_acc: 0.8640\n",
            "Epoch 77/100\n",
            "100/100 [==============================] - 32s 317ms/step - loss: 0.3302 - acc: 0.8485 - val_loss: 0.4286 - val_acc: 0.8210\n",
            "Epoch 78/100\n",
            "100/100 [==============================] - 37s 368ms/step - loss: 0.3184 - acc: 0.8625 - val_loss: 0.3830 - val_acc: 0.8360\n",
            "Epoch 79/100\n",
            "100/100 [==============================] - 41s 405ms/step - loss: 0.3424 - acc: 0.8420 - val_loss: 0.3365 - val_acc: 0.8640\n",
            "Epoch 80/100\n",
            "100/100 [==============================] - 42s 415ms/step - loss: 0.3242 - acc: 0.8615 - val_loss: 0.3482 - val_acc: 0.8490\n",
            "Epoch 81/100\n",
            "100/100 [==============================] - 42s 417ms/step - loss: 0.3301 - acc: 0.8495 - val_loss: 0.4303 - val_acc: 0.8410\n",
            "Epoch 82/100\n",
            "100/100 [==============================] - 41s 407ms/step - loss: 0.3172 - acc: 0.8620 - val_loss: 0.3936 - val_acc: 0.8330\n",
            "Epoch 83/100\n",
            "100/100 [==============================] - 39s 392ms/step - loss: 0.2982 - acc: 0.8740 - val_loss: 0.3725 - val_acc: 0.8370\n",
            "Epoch 84/100\n",
            "100/100 [==============================] - 42s 417ms/step - loss: 0.3220 - acc: 0.8570 - val_loss: 0.3613 - val_acc: 0.8390\n",
            "Epoch 85/100\n",
            "100/100 [==============================] - 42s 423ms/step - loss: 0.3188 - acc: 0.8585 - val_loss: 0.3573 - val_acc: 0.8590\n",
            "Epoch 86/100\n",
            "100/100 [==============================] - 41s 411ms/step - loss: 0.3240 - acc: 0.8605 - val_loss: 0.3185 - val_acc: 0.8650\n",
            "Epoch 87/100\n",
            "100/100 [==============================] - 41s 408ms/step - loss: 0.3097 - acc: 0.8590 - val_loss: 0.3374 - val_acc: 0.8580\n",
            "Epoch 88/100\n",
            "100/100 [==============================] - 41s 410ms/step - loss: 0.3157 - acc: 0.8595 - val_loss: 0.3440 - val_acc: 0.8510\n",
            "Epoch 89/100\n",
            "100/100 [==============================] - 41s 405ms/step - loss: 0.3096 - acc: 0.8720 - val_loss: 0.3457 - val_acc: 0.8680\n",
            "Epoch 90/100\n",
            "100/100 [==============================] - 41s 407ms/step - loss: 0.3019 - acc: 0.8620 - val_loss: 0.3695 - val_acc: 0.8520\n",
            "Epoch 91/100\n",
            "100/100 [==============================] - 40s 398ms/step - loss: 0.3017 - acc: 0.8750 - val_loss: 0.3678 - val_acc: 0.8540\n",
            "Epoch 92/100\n",
            "100/100 [==============================] - 39s 392ms/step - loss: 0.3008 - acc: 0.8700 - val_loss: 0.3317 - val_acc: 0.8620\n",
            "Epoch 93/100\n",
            "100/100 [==============================] - 39s 393ms/step - loss: 0.3049 - acc: 0.8610 - val_loss: 0.4010 - val_acc: 0.8500\n",
            "Epoch 94/100\n",
            "100/100 [==============================] - 40s 404ms/step - loss: 0.2808 - acc: 0.8820 - val_loss: 0.4144 - val_acc: 0.8580\n",
            "Epoch 95/100\n",
            "100/100 [==============================] - 41s 410ms/step - loss: 0.2802 - acc: 0.8785 - val_loss: 0.3279 - val_acc: 0.8780\n",
            "Epoch 96/100\n",
            "100/100 [==============================] - 41s 405ms/step - loss: 0.2930 - acc: 0.8700 - val_loss: 0.3825 - val_acc: 0.8440\n",
            "Epoch 97/100\n",
            "100/100 [==============================] - 41s 407ms/step - loss: 0.2652 - acc: 0.8860 - val_loss: 0.4138 - val_acc: 0.8360\n",
            "Epoch 98/100\n",
            "100/100 [==============================] - 40s 404ms/step - loss: 0.2973 - acc: 0.8645 - val_loss: 0.3353 - val_acc: 0.8640\n",
            "Epoch 99/100\n",
            "100/100 [==============================] - 41s 412ms/step - loss: 0.2793 - acc: 0.8795 - val_loss: 0.3199 - val_acc: 0.8600\n",
            "Epoch 100/100\n",
            "100/100 [==============================] - 40s 404ms/step - loss: 0.2726 - acc: 0.8840 - val_loss: 0.4120 - val_acc: 0.8450\n"
          ]
        }
      ],
      "source": [
        "history = model.fit(\n",
        "      train_generator,\n",
        "      steps_per_epoch=2000//train_generator.batch_size,\n",
        "      epochs=100,\n",
        "      validation_data=validation_generator,\n",
        "      validation_steps=1000//validation_generator.batch_size\n",
        "    )"
      ]
    },
    {
      "cell_type": "code",
      "execution_count": null,
      "metadata": {
        "id": "iYRQ--SjGjkY"
      },
      "outputs": [],
      "source": [
        "model.save('cats_and_dogs_small_1.h5')"
      ]
    },
    {
      "cell_type": "markdown",
      "metadata": {
        "id": "G_r0yg6HGjkb"
      },
      "source": [
        "Let's plot the loss and accuracy of the model over the training and validation data during training:"
      ]
    },
    {
      "cell_type": "code",
      "execution_count": 24,
      "metadata": {
        "colab": {
          "base_uri": "https://localhost:8080/",
          "height": 545
        },
        "id": "p3obWH66Gjkd",
        "outputId": "d1f55b92-2d12-43e3-a46a-d6ff216df218"
      },
      "outputs": [
        {
          "data": {
            "image/png": "[encoded data removed]",
            "text/plain": [
              "<Figure size 640x480 with 1 Axes>"
            ]
          },
          "metadata": {},
          "output_type": "display_data"
        },
        {
          "data": {
            "image/png": "[encoded data removed]",
            "text/plain": [
              "<Figure size 640x480 with 1 Axes>"
            ]
          },
          "metadata": {},
          "output_type": "display_data"
        }
      ],
      "source": [
        "import matplotlib.pyplot as plt\n",
        "\n",
        "acc = history.history['acc']\n",
        "val_acc = history.history['val_acc']\n",
        "loss = history.history['loss']\n",
        "val_loss = history.history['val_loss']\n",
        "\n",
        "epochs = range(len(acc))\n",
        "\n",
        "plt.plot(epochs, acc, 'bo', label='Training acc')\n",
        "plt.plot(epochs, val_acc, 'b', label='Validation acc')\n",
        "plt.title('Training and validation accuracy')\n",
        "plt.legend()\n",
        "\n",
        "plt.figure()\n",
        "\n",
        "plt.plot(epochs, loss, 'bo', label='Training loss')\n",
        "plt.plot(epochs, val_loss, 'b', label='Validation loss')\n",
        "plt.title('Training and validation loss')\n",
        "plt.legend()\n",
        "\n",
        "plt.show()"
      ]
    }
  ],
  "metadata": {
    "accelerator": "GPU",
    "colab": {
      "name": "5.2-using-convnets-with-small-datasets.ipynb",
      "provenance": [],
      "toc_visible": true
    },
    "kernelspec": {
      "display_name": ".venv",
      "language": "python",
      "name": "python3"
    },
    "language_info": {
      "codemirror_mode": {
        "name": "ipython",
        "version": 3
      },
      "file_extension": ".py",
      "mimetype": "text/x-python",
      "name": "python",
      "nbconvert_exporter": "python",
      "pygments_lexer": "ipython3",
      "version": "3.11.4"
    },
    "vscode": {
      "interpreter": {
        "hash": "e1da0ef6f0c3abfdc04085ea68693363a663f646649777911603cba652775eb9"
      }
    }
  },
  "nbformat": 4,
  "nbformat_minor": 0
}
