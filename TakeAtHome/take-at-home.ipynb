{
  "cells": [
    {
      "cell_type": "markdown",
      "metadata": {
        "id": "LfN3tns2OhOy"
      },
      "source": [
        "<a target=\"_blank\" href=\"https://colab.research.google.com/github/Jasonchen0317/CSGY-6613-Assignment/blob/main/TakeAtHome/take-at-home.ipynb\">\n",
        "  <img src=\"https://colab.research.google.com/assets/colab-badge.svg\" alt=\"Open In Colab\"/>\n",
        "</a>"
      ]
    },
    {
      "cell_type": "markdown",
      "metadata": {
        "id": "X_1suaJROhO2"
      },
      "source": [
        "# Problem Set 1 (Take Home) - 40 points"
      ]
    },
    {
      "cell_type": "markdown",
      "metadata": {
        "id": "yCWsVSktOhO3"
      },
      "source": [
        "## PS 1.A - 20 points\n",
        "\n",
        "In [this video](https://www.youtube.com/watch?v=ho6JXE3EbZ8) the author explains how to extract various visualizations of what CNNs learn. [Your course site](https://pantelis.github.io/artificial-intelligence/aiml-common/lectures/cnn/cnn-example-architectures/visualizing-what-convnets-learn.html) also covers the topic.\n",
        "\n",
        "Using the [CIFAR-10 dataset](https://www.cs.toronto.edu/~kriz/cifar.html), train a ResNet-50 based CNN on the classification task of $K=9$ classes (filter out the class `ship`) and create the following visualizations for first, middle and last blocks of ResNet-50. You are free to select a class to showcase such visualizations.\n",
        "\n",
        "* Visualizing intermediate convnet outputs (“intermediate activations”). This is useful to understand how successive convnet layers transform their input.\n",
        "\n",
        "* Visualizing convnets filters. This is useful to understand precisely what visual pattern or concept each filter in a convnet is receptive to.\n",
        "\n",
        "* Visualizing heatmaps of class activation in an image. This is useful to understand which part of an image where identified as belonging to a given class, and thus allows to localize objects in images.\n"
      ]
    },
    {
      "cell_type": "code",
      "execution_count": 1,
      "metadata": {
        "id": "LnCOGGhbOhO5"
      },
      "outputs": [],
      "source": [
        "import numpy as np\n",
        "import matplotlib.pyplot as plt\n",
        "import keras\n",
        "import tensorflow as tf"
      ]
    },
    {
      "cell_type": "code",
      "source": [
        "data = tf.keras.datasets.cifar10.load_data()\n"
      ],
      "metadata": {
        "id": "1u_GR6fOO3RV",
        "outputId": "4f6f7080-ef82-4209-f88f-f48518c59fc7",
        "colab": {
          "base_uri": "https://localhost:8080/"
        }
      },
      "execution_count": 2,
      "outputs": [
        {
          "output_type": "stream",
          "name": "stdout",
          "text": [
            "Downloading data from https://www.cs.toronto.edu/~kriz/cifar-10-python.tar.gz\n",
            "170498071/170498071 [==============================] - 2s 0us/step\n"
          ]
        }
      ]
    },
    {
      "cell_type": "markdown",
      "metadata": {
        "id": "TM7_FWrvOhO7"
      },
      "source": [
        "## PS 1.B - 20 points\n",
        "\n",
        "In [this notebook](https://pantelis.github.io/artificial-intelligence/aiml-common/lectures/transfer-learning/transfer_learning_tutorial.html) we showcase _transfer learning_ using a pre-trained CNN model.\n",
        "\n",
        "Perform the fine-tunning and feature extraction methods of transfer learning using the same model as in PS-1A, for the class `ship`.\n",
        "\n",
        "Repeat the visualization of PS-1.A before and after  transfer learning and write a conclusive summary as to the relative value of the two methods."
      ]
    },
    {
      "cell_type": "code",
      "execution_count": null,
      "metadata": {
        "id": "M5GhEcHHOhO8"
      },
      "outputs": [],
      "source": [
        "# Insert your code here"
      ]
    }
  ],
  "metadata": {
    "language_info": {
      "name": "python"
    },
    "colab": {
      "provenance": []
    },
    "kernelspec": {
      "name": "python3",
      "display_name": "Python 3"
    }
  },
  "nbformat": 4,
  "nbformat_minor": 0
}