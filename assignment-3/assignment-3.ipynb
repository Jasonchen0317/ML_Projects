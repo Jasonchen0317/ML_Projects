{
  "cells": [
    {
      "cell_type": "markdown",
      "metadata": {
        "id": "oQAB0ZOSXHUx"
      },
      "source": [
        "<a target=\"_blank\" href=\"https://colab.research.google.com/github/Jasonchen0317/CSGY-6613-Assignment/blob/main/assignment-3/assignment-3.ipynb\">\n",
        "  <img src=\"https://colab.research.google.com/assets/colab-badge.svg\" alt=\"Open In Colab\"/>\n",
        "</a>"
      ]
    },
    {
      "cell_type": "code",
      "execution_count": 1,
      "metadata": {
        "colab": {
          "base_uri": "https://localhost:8080/"
        },
        "id": "zTQO7E69XOW9",
        "outputId": "71f24ff6-88f9-4797-8218-20989f1adf42"
      },
      "outputs": [
        {
          "name": "stdout",
          "output_type": "stream",
          "text": [
            "Collecting pytube\n",
            "  Downloading pytube-15.0.0-py3-none-any.whl (57 kB)\n",
            "\u001b[?25l     \u001b[90m━━━━━━━━━━━━━━━━━━━━━━━━━━━━━━━━━━━━━━━━\u001b[0m \u001b[32m0.0/57.6 kB\u001b[0m \u001b[31m?\u001b[0m eta \u001b[36m-:--:--\u001b[0m\r\u001b[2K     \u001b[90m━━━━━━━━━━━━━━━━━━━━━━━━━━━━━━━━━━━━━━━━\u001b[0m \u001b[32m57.6/57.6 kB\u001b[0m \u001b[31m1.9 MB/s\u001b[0m eta \u001b[36m0:00:00\u001b[0m\n",
            "\u001b[?25hInstalling collected packages: pytube\n",
            "Successfully installed pytube-15.0.0\n"
          ]
        }
      ],
      "source": [
        "!pip install pytube"
      ]
    },
    {
      "cell_type": "code",
      "execution_count": 2,
      "metadata": {
        "colab": {
          "base_uri": "https://localhost:8080/"
        },
        "id": "qjaCv-WWXHVC",
        "outputId": "17330a94-82ca-4348-a411-ba74ec5f5373"
      },
      "outputs": [],
      "source": [
        "from pytube import YouTube\n",
        "import cv2\n",
        "import os\n",
        "\n",
        "import numpy as np\n",
        "import tqdm\n",
        "import pandas as pd\n"
      ]
    },
    {
      "cell_type": "code",
      "execution_count": 7,
      "metadata": {
        "id": "ZT0avQpaXHVO"
      },
      "outputs": [],
      "source": [
        "def download_video(video_list):\n",
        "    for i in range(len(video_list)):\n",
        "        #get link\n",
        "        link = video_list[i]\n",
        "        yt = YouTube(link)\n",
        "        yt.bypass_age_gate()\n",
        "        #Download video\n",
        "        filename = \"%s.mp4\" % str(i)\n",
        "        yt.streams.filter(res=\"720p\").first().download(filename=filename, output_path='video')"
      ]
    },
    {
      "cell_type": "code",
      "execution_count": 8,
      "metadata": {
        "id": "6Mu_zZvLXHVU"
      },
      "outputs": [],
      "source": [
        "if not os.path.exists('video'):\n",
        "   os.makedirs('video')\n",
        "\n",
        "video_list = [\n",
        "    'https://www.youtube.com/watch?v=DhmZ6W1UAv4',\n",
        "    'https://www.youtube.com/watch?v=YrydHPwRelI'\n",
        "]"
      ]
    },
    {
      "cell_type": "code",
      "execution_count": 9,
      "metadata": {
        "id": "UWYPzG6YXHVY"
      },
      "outputs": [],
      "source": [
        "download_video(video_list)"
      ]
    },
    {
      "cell_type": "code",
      "execution_count": 12,
      "metadata": {
        "colab": {
          "base_uri": "https://localhost:8080/"
        },
        "id": "Uw1WAloWx1WX",
        "outputId": "671f8a11-deab-492b-e790-612f4121730d"
      },
      "outputs": [
        {
          "name": "stdout",
          "output_type": "stream",
          "text": [
            "4941\n",
            "15409\n"
          ]
        }
      ],
      "source": [
        "v_list = os.listdir('video')\n",
        "for i in range(len(v_list)):\n",
        "  vid = i\n",
        "  capture = cv2.VideoCapture(f'video/{vid}.mp4')\n",
        "  length = int(capture.get(cv2.CAP_PROP_FRAME_COUNT))\n",
        "  print( length )"
      ]
    },
    {
      "cell_type": "code",
      "execution_count": 3,
      "metadata": {},
      "outputs": [],
      "source": [
        "if not os.path.exists('dataset/test'):\n",
        "   os.makedirs('dataset/test')"
      ]
    },
    {
      "cell_type": "code",
      "execution_count": 13,
      "metadata": {
        "colab": {
          "base_uri": "https://localhost:8080/"
        },
        "id": "ZCH5chXsa6pw",
        "outputId": "d1fe3675-6d0e-40bc-ddaa-a45d6618a4c2"
      },
      "outputs": [],
      "source": [
        "DIR_TEST = 'dataset/test'\n",
        "for i in range(len(v_list)):\n",
        "  vid = i\n",
        "  capture = cv2.VideoCapture(f'video/{vid}.mp4')\n",
        "  frameNr = 0\n",
        "  success, frame = capture.read()\n",
        "  while (success):\n",
        "      cv2.imwrite(f'{DIR_TEST}/video_{vid}_frame_{frameNr}.jpg', frame)\n",
        "      success, frame = capture.read()\n",
        "      frameNr = frameNr+1\n",
        "\n",
        "  capture.release()\n"
      ]
    },
    {
      "cell_type": "code",
      "execution_count": 1,
      "metadata": {},
      "outputs": [
        {
          "data": {
            "text/plain": [
              "True"
            ]
          },
          "execution_count": 1,
          "metadata": {},
          "output_type": "execute_result"
        }
      ],
      "source": [
        "import torch\n",
        "torch.cuda.is_available()"
      ]
    },
    {
      "cell_type": "code",
      "execution_count": 5,
      "metadata": {},
      "outputs": [
        {
          "data": {
            "text/plain": [
              "_CudaDeviceProperties(name='NVIDIA GeForce RTX 4050 Laptop GPU', major=8, minor=9, total_memory=6140MB, multi_processor_count=20)"
            ]
          },
          "execution_count": 5,
          "metadata": {},
          "output_type": "execute_result"
        }
      ],
      "source": [
        "torch.__version__\n",
        "torch.cuda.get_device_properties(0)"
      ]
    },
    {
      "cell_type": "code",
      "execution_count": 3,
      "metadata": {},
      "outputs": [
        {
          "name": "stdout",
          "output_type": "stream",
          "text": [
            "Thu Nov  9 12:25:00 2023       \n",
            "+---------------------------------------------------------------------------------------+\n",
            "| NVIDIA-SMI 536.67                 Driver Version: 536.67       CUDA Version: 12.2     |\n",
            "|-----------------------------------------+----------------------+----------------------+\n",
            "| GPU  Name                     TCC/WDDM  | Bus-Id        Disp.A | Volatile Uncorr. ECC |\n",
            "| Fan  Temp   Perf          Pwr:Usage/Cap |         Memory-Usage | GPU-Util  Compute M. |\n",
            "|                                         |                      |               MIG M. |\n",
            "|=========================================+======================+======================|\n",
            "|   0  NVIDIA GeForce RTX 4050 ...  WDDM  | 00000000:01:00.0 Off |                  N/A |\n",
            "| N/A   52C    P0              22W /  44W |   5922MiB /  6141MiB |     98%      Default |\n",
            "|                                         |                      |                  N/A |\n",
            "+-----------------------------------------+----------------------+----------------------+\n",
            "                                                                                         \n",
            "+---------------------------------------------------------------------------------------+\n",
            "| Processes:                                                                            |\n",
            "|  GPU   GI   CI        PID   Type   Process name                            GPU Memory |\n",
            "|        ID   ID                                                             Usage      |\n",
            "|=======================================================================================|\n",
            "|    0   N/A  N/A      1448    C+G   ...les (x86)\\Overwolf\\old_Overwolf.exe    N/A      |\n",
            "|    0   N/A  N/A     13208      C   ...rograms\\Python\\Python311\\python.exe    N/A      |\n",
            "+---------------------------------------------------------------------------------------+\n"
          ]
        }
      ],
      "source": [
        "!nvidia-smi"
      ]
    },
    {
      "cell_type": "code",
      "execution_count": null,
      "metadata": {},
      "outputs": [],
      "source": [
        "if not os.path.exists('outputs'):\n",
        "   os.makedirs('outputs')"
      ]
    },
    {
      "cell_type": "code",
      "execution_count": null,
      "metadata": {},
      "outputs": [],
      "source": [
        "!python train.py"
      ]
    },
    {
      "cell_type": "code",
      "execution_count": null,
      "metadata": {},
      "outputs": [],
      "source": [
        "if not os.path.exists('detections'):\n",
        "   os.makedirs('detedtions')"
      ]
    },
    {
      "cell_type": "code",
      "execution_count": null,
      "metadata": {},
      "outputs": [],
      "source": [
        "!python inference.py"
      ]
    }
  ],
  "metadata": {
    "accelerator": "GPU",
    "colab": {
      "gpuType": "T4",
      "provenance": []
    },
    "kernelspec": {
      "display_name": "Python 3",
      "name": "python3"
    },
    "language_info": {
      "codemirror_mode": {
        "name": "ipython",
        "version": 3
      },
      "file_extension": ".py",
      "mimetype": "text/x-python",
      "name": "python",
      "nbconvert_exporter": "python",
      "pygments_lexer": "ipython3",
      "version": "3.11.4"
    }
  },
  "nbformat": 4,
  "nbformat_minor": 0
}
