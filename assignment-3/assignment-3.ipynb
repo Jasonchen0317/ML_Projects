{
 "cells": [
  {
   "cell_type": "markdown",
   "metadata": {},
   "source": [
    "<a target=\"_blank\" href=\"https://colab.research.google.com/github/Jasonchen0317/CSGY-6613-Assignment/blob/main/assignment-3/assignment-3.ipynb\">\n",
    "  <img src=\"https://colab.research.google.com/assets/colab-badge.svg\" alt=\"Open In Colab\"/>\n",
    "</a>"
   ]
  },
  {
   "cell_type": "code",
   "execution_count": 1,
   "metadata": {},
   "outputs": [],
   "source": [
    "from pytube import YouTube\n",
    "import os"
   ]
  },
  {
   "cell_type": "code",
   "execution_count": 2,
   "metadata": {},
   "outputs": [],
   "source": [
    "def download_video(video_list):\n",
    "    for i in range(len(video_list)):\n",
    "        #get link\n",
    "        link = video_list[i]\n",
    "        yt = YouTube(link)\n",
    "        yt.bypass_age_gate()\n",
    "        #Download video\n",
    "        filename = \"%s.mp4\" % str(i)\n",
    "        yt.streams.filter(res=\"720p\").first().download(filename=filename, output_path='video')"
   ]
  },
  {
   "cell_type": "code",
   "execution_count": null,
   "metadata": {},
   "outputs": [],
   "source": [
    "if not os.path.exists('video'):\n",
    "   os.makedirs('video')\n",
    "   \n",
    "video_list = [\n",
    "    'https://www.youtube.com/watch?v=DhmZ6W1UAv4',\n",
    "    'https://www.youtube.com/watch?v=YrydHPwRelI'\n",
    "]"
   ]
  },
  {
   "cell_type": "code",
   "execution_count": null,
   "metadata": {},
   "outputs": [],
   "source": [
    "download_video(video_list)"
   ]
  }
 ],
 "metadata": {
  "kernelspec": {
   "display_name": "Python 3",
   "language": "python",
   "name": "python3"
  },
  "language_info": {
   "codemirror_mode": {
    "name": "ipython",
    "version": 3
   },
   "file_extension": ".py",
   "mimetype": "text/x-python",
   "name": "python",
   "nbconvert_exporter": "python",
   "pygments_lexer": "ipython3",
   "version": "3.11.4"
  }
 },
 "nbformat": 4,
 "nbformat_minor": 2
}
