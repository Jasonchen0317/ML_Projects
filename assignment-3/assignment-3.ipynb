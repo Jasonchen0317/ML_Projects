{
  "cells": [
    {
      "cell_type": "markdown",
      "metadata": {
        "id": "oQAB0ZOSXHUx"
      },
      "source": [
        "<a target=\"_blank\" href=\"https://colab.research.google.com/github/Jasonchen0317/CSGY-6613-Assignment/blob/main/assignment-3/assignment-3.ipynb\">\n",
        "  <img src=\"https://colab.research.google.com/assets/colab-badge.svg\" alt=\"Open In Colab\"/>\n",
        "</a>"
      ]
    },
    {
      "cell_type": "code",
      "source": [
        "!pip install pytube"
      ],
      "metadata": {
        "id": "zTQO7E69XOW9",
        "outputId": "71f24ff6-88f9-4797-8218-20989f1adf42",
        "colab": {
          "base_uri": "https://localhost:8080/"
        }
      },
      "execution_count": 1,
      "outputs": [
        {
          "output_type": "stream",
          "name": "stdout",
          "text": [
            "Collecting pytube\n",
            "  Downloading pytube-15.0.0-py3-none-any.whl (57 kB)\n",
            "\u001b[?25l     \u001b[90m━━━━━━━━━━━━━━━━━━━━━━━━━━━━━━━━━━━━━━━━\u001b[0m \u001b[32m0.0/57.6 kB\u001b[0m \u001b[31m?\u001b[0m eta \u001b[36m-:--:--\u001b[0m\r\u001b[2K     \u001b[90m━━━━━━━━━━━━━━━━━━━━━━━━━━━━━━━━━━━━━━━━\u001b[0m \u001b[32m57.6/57.6 kB\u001b[0m \u001b[31m1.9 MB/s\u001b[0m eta \u001b[36m0:00:00\u001b[0m\n",
            "\u001b[?25hInstalling collected packages: pytube\n",
            "Successfully installed pytube-15.0.0\n"
          ]
        }
      ]
    },
    {
      "cell_type": "code",
      "source": [
        "!pip install --upgrade -q git+https://github.com/keras-team/keras-cv"
      ],
      "metadata": {
        "id": "80J5nCF9HBc2",
        "outputId": "f56222d8-0231-4d80-c1b5-f15e00ae5b99",
        "colab": {
          "base_uri": "https://localhost:8080/"
        }
      },
      "execution_count": 3,
      "outputs": [
        {
          "output_type": "stream",
          "name": "stdout",
          "text": [
            "  Installing build dependencies ... \u001b[?25l\u001b[?25hdone\n",
            "  Getting requirements to build wheel ... \u001b[?25l\u001b[?25hdone\n",
            "  Preparing metadata (pyproject.toml) ... \u001b[?25l\u001b[?25hdone\n",
            "\u001b[2K     \u001b[90m━━━━━━━━━━━━━━━━━━━━━━━━━━━━━━━━━━━━━━━━\u001b[0m \u001b[32m950.8/950.8 kB\u001b[0m \u001b[31m12.2 MB/s\u001b[0m eta \u001b[36m0:00:00\u001b[0m\n",
            "\u001b[?25h  Building wheel for keras-cv (pyproject.toml) ... \u001b[?25l\u001b[?25hdone\n"
          ]
        }
      ]
    },
    {
      "cell_type": "code",
      "execution_count": 4,
      "metadata": {
        "id": "qjaCv-WWXHVC",
        "outputId": "17330a94-82ca-4348-a411-ba74ec5f5373",
        "colab": {
          "base_uri": "https://localhost:8080/"
        }
      },
      "outputs": [
        {
          "output_type": "stream",
          "name": "stdout",
          "text": [
            "Using TensorFlow backend\n"
          ]
        }
      ],
      "source": [
        "from pytube import YouTube\n",
        "import cv2\n",
        "import os\n",
        "from google.colab import output\n",
        "\n",
        "import tensorflow as tf\n",
        "import tensorflow_datasets as tfds\n",
        "from tensorflow import keras\n",
        "from tensorflow.keras import optimizers\n",
        "import keras_cv\n",
        "import numpy as np\n",
        "from keras_cv import bounding_box\n",
        "import os\n",
        "import resource\n",
        "from keras_cv import visualization\n",
        "import tqdm\n"
      ]
    },
    {
      "cell_type": "code",
      "execution_count": null,
      "metadata": {
        "id": "ZT0avQpaXHVO"
      },
      "outputs": [],
      "source": [
        "def download_video(video_list):\n",
        "    for i in range(len(video_list)):\n",
        "        #get link\n",
        "        link = video_list[i]\n",
        "        yt = YouTube(link)\n",
        "        yt.bypass_age_gate()\n",
        "        #Download video\n",
        "        filename = \"%s.mp4\" % str(i)\n",
        "        yt.streams.filter(res=\"720p\").first().download(filename=filename, output_path='video')"
      ]
    },
    {
      "cell_type": "code",
      "execution_count": null,
      "metadata": {
        "id": "6Mu_zZvLXHVU"
      },
      "outputs": [],
      "source": [
        "if not os.path.exists('video'):\n",
        "   os.makedirs('video')\n",
        "\n",
        "video_list = [\n",
        "    'https://www.youtube.com/watch?v=DhmZ6W1UAv4',\n",
        "    'https://www.youtube.com/watch?v=YrydHPwRelI'\n",
        "]"
      ]
    },
    {
      "cell_type": "code",
      "execution_count": null,
      "metadata": {
        "id": "UWYPzG6YXHVY"
      },
      "outputs": [],
      "source": [
        "download_video(video_list)"
      ]
    },
    {
      "cell_type": "code",
      "source": [
        "v_list = os.listdir('video')"
      ],
      "metadata": {
        "id": "r5fnIBJ_X9o4"
      },
      "execution_count": null,
      "outputs": []
    },
    {
      "cell_type": "code",
      "source": [
        "len(v_list)"
      ],
      "metadata": {
        "id": "letGLVfrcUCq",
        "outputId": "15c8d4bb-f5c0-476d-d3fc-d48f3ab00a11",
        "colab": {
          "base_uri": "https://localhost:8080/"
        }
      },
      "execution_count": null,
      "outputs": [
        {
          "output_type": "execute_result",
          "data": {
            "text/plain": [
              "2"
            ]
          },
          "metadata": {},
          "execution_count": 16
        }
      ]
    },
    {
      "cell_type": "code",
      "source": [
        "!rm -rf frames/"
      ],
      "metadata": {
        "id": "3UWqY7Bku5hU"
      },
      "execution_count": null,
      "outputs": []
    },
    {
      "cell_type": "code",
      "source": [
        "for i in range(len(v_list)):\n",
        "  vid = i\n",
        "  capture = cv2.VideoCapture(f'video/{vid}.mp4')\n",
        "  length = int(capture.get(cv2.CAP_PROP_FRAME_COUNT))\n",
        "  print( length )"
      ],
      "metadata": {
        "id": "Uw1WAloWx1WX",
        "outputId": "671f8a11-deab-492b-e790-612f4121730d",
        "colab": {
          "base_uri": "https://localhost:8080/"
        }
      },
      "execution_count": null,
      "outputs": [
        {
          "output_type": "stream",
          "name": "stdout",
          "text": [
            "4941\n",
            "15409\n"
          ]
        }
      ]
    },
    {
      "cell_type": "code",
      "source": [
        "if not os.path.exists('frames'):\n",
        "   os.makedirs('frames')\n",
        "\n",
        "for i in range(len(v_list)):\n",
        "  vid = i\n",
        "  capture = cv2.VideoCapture(f'video/{vid}.mp4')\n",
        "  frameNr = 0\n",
        "  success, frame = capture.read()\n",
        "  while (success):\n",
        "      cv2.imwrite(f'frames/video_{vid}_frame_{frameNr}.jpg', frame)\n",
        "      print(f'Saved video {vid} frame {frameNr}!')\n",
        "      if frameNr%10 == 0:\n",
        "        output.clear()\n",
        "\n",
        "      success, frame = capture.read()\n",
        "      frameNr = frameNr+1\n",
        "\n",
        "  capture.release()\n"
      ],
      "metadata": {
        "id": "ZCH5chXsa6pw",
        "outputId": "d1fe3675-6d0e-40bc-ddaa-a45d6618a4c2",
        "colab": {
          "base_uri": "https://localhost:8080/"
        }
      },
      "execution_count": null,
      "outputs": [
        {
          "output_type": "stream",
          "name": "stdout",
          "text": [
            "Saved video 1 frame 15401!\n",
            "Saved video 1 frame 15402!\n",
            "Saved video 1 frame 15403!\n",
            "Saved video 1 frame 15404!\n",
            "Saved video 1 frame 15405!\n",
            "Saved video 1 frame 15406!\n",
            "Saved video 1 frame 15407!\n",
            "Saved video 1 frame 15408!\n"
          ]
        }
      ]
    },
    {
      "cell_type": "code",
      "source": [
        "class_ids = [\n",
        "    \"Drone\",\n",
        "]\n",
        "class_mapping = dict(zip(range(len(class_ids)), class_ids))\n"
      ],
      "metadata": {
        "id": "ZmgZgZ71IPYL"
      },
      "execution_count": null,
      "outputs": []
    },
    {
      "cell_type": "code",
      "source": [
        "def visualize_dataset(inputs, value_range, rows, cols, bounding_box_format):\n",
        "    inputs = next(iter(inputs.take(1)))\n",
        "    images, bounding_boxes = inputs[\"images\"], inputs[\"bounding_boxes\"]\n",
        "    visualization.plot_bounding_box_gallery(\n",
        "        images,\n",
        "        value_range=value_range,\n",
        "        rows=rows,\n",
        "        cols=cols,\n",
        "        y_true=bounding_boxes,\n",
        "        scale=5,\n",
        "        font_scale=0.7,\n",
        "        bounding_box_format=bounding_box_format,\n",
        "        class_mapping=class_mapping,\n",
        "    )\n",
        "\n",
        "def unpackage_raw_inputs(inputs, bounding_box_format):\n",
        "    image = inputs[\"image\"]\n",
        "    boxes = keras_cv.bounding_box.convert_format(\n",
        "        inputs[\"objects\"][\"bbox\"],\n",
        "        images=image,\n",
        "        source=\"rel_yxyx\",\n",
        "        target=bounding_box_format,\n",
        "    )\n",
        "    bounding_boxes = {\n",
        "        \"classes\": tf.cast(inputs[\"objects\"][\"label\"], dtype=tf.float32),\n",
        "        \"boxes\": tf.cast(boxes, dtype=tf.float32),\n",
        "    }\n",
        "    return {\"images\": tf.cast(image, tf.float32), \"bounding_boxes\": bounding_boxes}\n",
        "\n",
        "\n",
        "def load_data(split, dataset, bounding_box_format):\n",
        "    ds = tfds.load(dataset, split=split, with_info=False, shuffle_files=True)\n",
        "    ds = ds.map(\n",
        "        lambda x: unpackage_raw_inputs(x, bounding_box_format=bounding_box_format),\n",
        "        num_parallel_calls=tf.data.AUTOTUNE,\n",
        "    )\n",
        "    return ds\n"
      ],
      "metadata": {
        "id": "XAKt08Pj1-nN"
      },
      "execution_count": 5,
      "outputs": []
    },
    {
      "cell_type": "code",
      "source": [
        "train_image = []\n",
        "train_annotation = []"
      ],
      "metadata": {
        "id": "khp9IC8ILQ3P"
      },
      "execution_count": null,
      "outputs": []
    },
    {
      "cell_type": "code",
      "source": [
        "import glob\n",
        "from PIL import Image\n",
        "image_file = glob.glob(\"C:/kaggle/archive(2)/drone_dataset_yolo/*.jpg\")"
      ],
      "metadata": {
        "id": "j7QgBcTgKhlw"
      },
      "execution_count": null,
      "outputs": []
    },
    {
      "cell_type": "code",
      "source": [
        "for i in image_file:     #slicing for insufficient memory\n",
        "    Load_image = Image.open(i).convert('RGB')\n",
        "    nmpy_img = Load_image.resize((258,258))\n",
        "    train_image.append(np.asarray(nmpy_img))\n",
        "\n",
        "    seperate_path = i.split('.')\n",
        "    seperate_path[1] = '.txt'\n",
        "\n",
        "    with open(seperate_path[0]+seperate_path[1]) as f:\n",
        "        lines = f.readlines()\n",
        "        tmp_lst = lines[0].split(' ')\n",
        "        #label = int(tmp_lst[0])\n",
        "        startX = float(tmp_lst[1])\n",
        "        startY = float(tmp_lst[2])\n",
        "        endX = float(tmp_lst[3])\n",
        "        endY = float(tmp_lst[4])\n",
        "        train_annotation.append((startX, startY, endX, endY))\n"
      ],
      "metadata": {
        "id": "oQnxzAAJHSe9"
      },
      "execution_count": 6,
      "outputs": []
    }
  ],
  "metadata": {
    "kernelspec": {
      "display_name": "Python 3",
      "name": "python3"
    },
    "language_info": {
      "codemirror_mode": {
        "name": "ipython",
        "version": 3
      },
      "file_extension": ".py",
      "mimetype": "text/x-python",
      "name": "python",
      "nbconvert_exporter": "python",
      "pygments_lexer": "ipython3",
      "version": "3.11.4"
    },
    "colab": {
      "provenance": [],
      "gpuType": "T4"
    },
    "accelerator": "GPU"
  },
  "nbformat": 4,
  "nbformat_minor": 0
}