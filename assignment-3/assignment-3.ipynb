{
  "cells": [
    {
      "cell_type": "markdown",
      "metadata": {
        "id": "oQAB0ZOSXHUx"
      },
      "source": [
        "<a target=\"_blank\" href=\"https://colab.research.google.com/github/Jasonchen0317/CSGY-6613-Assignment/blob/main/assignment-3/assignment-3.ipynb\">\n",
        "  <img src=\"https://colab.research.google.com/assets/colab-badge.svg\" alt=\"Open In Colab\"/>\n",
        "</a>"
      ]
    },
    {
      "cell_type": "code",
      "source": [
        "!pip install pytube"
      ],
      "metadata": {
        "id": "zTQO7E69XOW9",
        "outputId": "0200446e-0953-4356-a88a-fab6c012075d",
        "colab": {
          "base_uri": "https://localhost:8080/"
        }
      },
      "execution_count": 12,
      "outputs": [
        {
          "output_type": "stream",
          "name": "stdout",
          "text": [
            "Requirement already satisfied: pytube in /usr/local/lib/python3.10/dist-packages (15.0.0)\n"
          ]
        }
      ]
    },
    {
      "cell_type": "code",
      "execution_count": 25,
      "metadata": {
        "id": "qjaCv-WWXHVC"
      },
      "outputs": [],
      "source": [
        "from pytube import YouTube\n",
        "import cv2\n",
        "import os\n",
        "from google.colab import output"
      ]
    },
    {
      "cell_type": "code",
      "execution_count": null,
      "metadata": {
        "id": "ZT0avQpaXHVO"
      },
      "outputs": [],
      "source": [
        "def download_video(video_list):\n",
        "    for i in range(len(video_list)):\n",
        "        #get link\n",
        "        link = video_list[i]\n",
        "        yt = YouTube(link)\n",
        "        yt.bypass_age_gate()\n",
        "        #Download video\n",
        "        filename = \"%s.mp4\" % str(i)\n",
        "        yt.streams.filter(res=\"720p\").first().download(filename=filename, output_path='video')"
      ]
    },
    {
      "cell_type": "code",
      "execution_count": null,
      "metadata": {
        "id": "6Mu_zZvLXHVU"
      },
      "outputs": [],
      "source": [
        "if not os.path.exists('video'):\n",
        "   os.makedirs('video')\n",
        "\n",
        "video_list = [\n",
        "    'https://www.youtube.com/watch?v=DhmZ6W1UAv4',\n",
        "    'https://www.youtube.com/watch?v=YrydHPwRelI'\n",
        "]"
      ]
    },
    {
      "cell_type": "code",
      "execution_count": null,
      "metadata": {
        "id": "UWYPzG6YXHVY"
      },
      "outputs": [],
      "source": [
        "download_video(video_list)"
      ]
    },
    {
      "cell_type": "code",
      "source": [
        "v_list = os.listdir('video')"
      ],
      "metadata": {
        "id": "r5fnIBJ_X9o4"
      },
      "execution_count": 15,
      "outputs": []
    },
    {
      "cell_type": "code",
      "source": [
        "len(v_list)"
      ],
      "metadata": {
        "id": "letGLVfrcUCq",
        "outputId": "15c8d4bb-f5c0-476d-d3fc-d48f3ab00a11",
        "colab": {
          "base_uri": "https://localhost:8080/"
        }
      },
      "execution_count": 16,
      "outputs": [
        {
          "output_type": "execute_result",
          "data": {
            "text/plain": [
              "2"
            ]
          },
          "metadata": {},
          "execution_count": 16
        }
      ]
    },
    {
      "cell_type": "code",
      "source": [
        "!rm -rf frames/"
      ],
      "metadata": {
        "id": "3UWqY7Bku5hU"
      },
      "execution_count": 30,
      "outputs": []
    },
    {
      "cell_type": "code",
      "source": [
        "for i in range(len(v_list)):\n",
        "  vid = i\n",
        "  capture = cv2.VideoCapture(f'video/{vid}.mp4')\n",
        "  length = int(capture.get(cv2.CAP_PROP_FRAME_COUNT))\n",
        "  print( length )"
      ],
      "metadata": {
        "id": "Uw1WAloWx1WX",
        "outputId": "671f8a11-deab-492b-e790-612f4121730d",
        "colab": {
          "base_uri": "https://localhost:8080/"
        }
      },
      "execution_count": 31,
      "outputs": [
        {
          "output_type": "stream",
          "name": "stdout",
          "text": [
            "4941\n",
            "15409\n"
          ]
        }
      ]
    },
    {
      "cell_type": "code",
      "source": [
        "if not os.path.exists('frames'):\n",
        "   os.makedirs('frames')\n",
        "\n",
        "for i in range(len(v_list)):\n",
        "  vid = i\n",
        "  capture = cv2.VideoCapture(f'video/{vid}.mp4')\n",
        "  frameNr = 0\n",
        "  success, frame = capture.read()\n",
        "  while (success):\n",
        "      cv2.imwrite(f'frames/video_{vid}_frame_{frameNr}.jpg', frame)\n",
        "      print(f'Saved video {vid} frame {frameNr}!')\n",
        "      if frameNr%10 == 0:\n",
        "        output.clear()\n",
        "\n",
        "      success, frame = capture.read()\n",
        "      frameNr = frameNr+1\n",
        "\n",
        "  capture.release()\n"
      ],
      "metadata": {
        "id": "ZCH5chXsa6pw",
        "outputId": "d1fe3675-6d0e-40bc-ddaa-a45d6618a4c2",
        "colab": {
          "base_uri": "https://localhost:8080/"
        }
      },
      "execution_count": 32,
      "outputs": [
        {
          "output_type": "stream",
          "name": "stdout",
          "text": [
            "Saved video 1 frame 15401!\n",
            "Saved video 1 frame 15402!\n",
            "Saved video 1 frame 15403!\n",
            "Saved video 1 frame 15404!\n",
            "Saved video 1 frame 15405!\n",
            "Saved video 1 frame 15406!\n",
            "Saved video 1 frame 15407!\n",
            "Saved video 1 frame 15408!\n"
          ]
        }
      ]
    },
    {
      "cell_type": "code",
      "source": [],
      "metadata": {
        "id": "XAKt08Pj1-nN"
      },
      "execution_count": null,
      "outputs": []
    }
  ],
  "metadata": {
    "kernelspec": {
      "display_name": "Python 3",
      "name": "python3"
    },
    "language_info": {
      "codemirror_mode": {
        "name": "ipython",
        "version": 3
      },
      "file_extension": ".py",
      "mimetype": "text/x-python",
      "name": "python",
      "nbconvert_exporter": "python",
      "pygments_lexer": "ipython3",
      "version": "3.11.4"
    },
    "colab": {
      "provenance": []
    }
  },
  "nbformat": 4,
  "nbformat_minor": 0
}